{
  "cells": [
    {
      "cell_type": "markdown",
      "metadata": {
        "id": "qqgWZfytbLIb"
      },
      "source": [
        "# CarList Listings"
      ]
    },
    {
      "cell_type": "markdown",
      "metadata": {
        "id": "LO2wgTi4bWre"
      },
      "source": [
        "This project aims to analyse car listings data scraped from the Carlist.my website. Each group member was assigned a different range of pages to scrape, resulting in multiple datasets that will be merged into one unified dataset for further analysis. At this stage, the exact number of rows, columns, and memory usage is unknown, as the datasets have yet to be combined.\n",
        "\n",
        "The project will involve essential data preprocessing steps including merging, cleaning, and transformation to ensure data consistency and usability. Following that, we will apply performance optimization techniques using various library. Two optimization methods will be implemented and compared against the baseline (non-optimized) version to observe their effect on speed and efficiency."
      ]
    },
    {
      "cell_type": "markdown",
      "metadata": {
        "id": "_UrY25PNcxuR"
      },
      "source": [
        "**Group Members:**\n",
        "---\n",
        "\n",
        "| Name          | Matrix Number | Library Used |\n",
        "|---------------|---------------|---------------|\n",
        "| Marcus Joey Sayner         | A22EC0193     | PySpark        |\n",
        "| Muhammad Luqman Hakim bin Mohd Rizaudin           | A22EC0086     | Modin          |\n",
        "| Goh Jing Yang       | A22EC0052     | Dask         |\n",
        "| Camily Tang Jia Lei          | A22EC0039     | Pandas        |\n"
      ]
    },
    {
      "cell_type": "markdown",
      "metadata": {
        "id": "rdqkyMEFdrBs"
      },
      "source": [
        "## 1. Combine Dataset"
      ]
    },
    {
      "cell_type": "markdown",
      "metadata": {
        "id": "Ivv_2xeRdxjY"
      },
      "source": [
        "To prepare the dataset for analysis, we first combined the individual files collected by each group member: Camily, Luqman, Jing Yang, and Marcus. Each member scraped a different range of pages from the Carlist.my website and saved the data as a CSV file. These files were then loaded using the pandas library and concatenated into one comprehensive dataset. This combined dataset is essential for performing consistent data cleaning, transformation, and performance optimization across all entries."
      ]
    },
    {
      "cell_type": "code",
      "execution_count": 17,
      "metadata": {},
      "outputs": [
        {
          "name": "stdout",
          "output_type": "stream",
          "text": [
            "Defaulting to user installation because normal site-packages is not writeable\n",
            "Requirement already satisfied: pandas in c:\\programdata\\anaconda3\\lib\\site-packages (2.2.2)\n",
            "Requirement already satisfied: pymongo in c:\\users\\honor\\appdata\\roaming\\python\\python312\\site-packages (4.12.1)\n",
            "Requirement already satisfied: numpy>=1.26.0 in c:\\programdata\\anaconda3\\lib\\site-packages (from pandas) (1.26.4)\n",
            "Requirement already satisfied: python-dateutil>=2.8.2 in c:\\users\\honor\\appdata\\roaming\\python\\python312\\site-packages (from pandas) (2.9.0.post0)\n",
            "Requirement already satisfied: pytz>=2020.1 in c:\\programdata\\anaconda3\\lib\\site-packages (from pandas) (2024.1)\n",
            "Requirement already satisfied: tzdata>=2022.7 in c:\\programdata\\anaconda3\\lib\\site-packages (from pandas) (2023.3)\n",
            "Requirement already satisfied: dnspython<3.0.0,>=1.16.0 in c:\\users\\honor\\appdata\\roaming\\python\\python312\\site-packages (from pymongo) (2.7.0)\n",
            "Requirement already satisfied: six>=1.5 in c:\\users\\honor\\appdata\\roaming\\python\\python312\\site-packages (from python-dateutil>=2.8.2->pandas) (1.16.0)\n",
            "Note: you may need to restart the kernel to use updated packages.\n"
          ]
        }
      ],
      "source": [
        "pip install pandas pymongo"
      ]
    },
    {
      "cell_type": "code",
      "execution_count": 18,
      "metadata": {
        "colab": {
          "base_uri": "https://localhost:8080/",
          "height": 1000
        },
        "id": "hNK3Z-SGbCxc",
        "outputId": "5a878dfa-05a2-41c0-c3c5-eedda792708a"
      },
      "outputs": [
        {
          "name": "stdout",
          "output_type": "stream",
          "text": [
            "Combined dataset shape: (174150, 17)\n",
            "                                            Car Name Car Brand      Car Model  \\\n",
            "0                   2023 Lexus RX350 2.4 F Sport SUV     Lexus          RX350   \n",
            "1  2010 Toyota Estima 2.4 Aeras MPV Hot Mpv Car I...    Toyota         Estima   \n",
            "2  2020 Porsche Cayenne Coupe 4.0 V8 Turbo AWD Un...   Porsche        Cayenne   \n",
            "3             2021 Honda City 1.5 V i-VTEC Hatchback     Honda           City   \n",
            "4  2022 Toyota Corolla Cross 1.8 V SUV Full Servi...    Toyota  Corolla Cross   \n",
            "\n",
            "   Manufacture Year  Body Type                Fuel Type            Mileage  \\\n",
            "0              2023        SUV  Petrol - Unleaded (ULP)     5 - 10K KM       \n",
            "1              2010        MPV  Petrol - Unleaded (ULP)  115 - 120K KM       \n",
            "2              2020      Coupe  Petrol - Unleaded (ULP)    20 - 25K KM       \n",
            "3              2021  Hatchback  Petrol - Unleaded (ULP)    90 - 95K KM       \n",
            "4              2022        SUV  Petrol - Unleaded (ULP)    80 - 85K KM       \n",
            "\n",
            "  Transmission   Color   Price     Installment  \\\n",
            "0    Automatic   Black  375000  RM 4,862/month   \n",
            "1    Automatic   White   55999    RM 726/month   \n",
            "2    Automatic    Grey  662222  RM 8,585/month   \n",
            "3    Automatic  Silver   67000    RM 869/month   \n",
            "4    Automatic   White   98999  RM 1,283/month   \n",
            "\n",
            "                                Condition Seating Capacity           Location  \\\n",
            "0  http://schema.org/RefurbishedCondition                5   Selangor, Klang    \n",
            "1         http://schema.org/UsedCondition                7  Selangor, Kajang    \n",
            "2  http://schema.org/RefurbishedCondition                4   Selangor, Klang    \n",
            "3         http://schema.org/UsedCondition                5  Johor, Ulu Tiram    \n",
            "4         http://schema.org/UsedCondition                5  Selangor, Kajang    \n",
            "\n",
            "                                       Sales Channel Seat Capacity  URL  \n",
            "0  Sales Agent                                   ...           NaN  NaN  \n",
            "1  Sales Agent                                   ...           NaN  NaN  \n",
            "2  Sales Agent                                   ...           NaN  NaN  \n",
            "3  Sales Agent                                   ...           NaN  NaN  \n",
            "4  Sales Agent                                   ...           NaN  NaN  \n",
            "✅ Data inserted into MongoDB successfully.\n"
          ]
        }
      ],
      "source": [
        "import pandas as pd\n",
        "from pymongo import MongoClient\n",
        "\n",
        "# List of group member files\n",
        "files = [\n",
        "    \"camily_carlist_listings.csv\",\n",
        "    \"luqman_carlist_listings.csv\",\n",
        "    \"jingyang_carlist_listings.csv\",\n",
        "    \"marcus_carlist_listings.csv\"\n",
        "]\n",
        "\n",
        "# Read and combine datasets\n",
        "dfs = [pd.read_csv(file) for file in files]\n",
        "combined_df = pd.concat(dfs, ignore_index=True)\n",
        "\n",
        "# Save combined dataset\n",
        "combined_df.to_csv(\"carlist_combined.csv\", index=False)\n",
        "\n",
        "# Output shape and preview\n",
        "print(\"Combined dataset shape:\", combined_df.shape)\n",
        "print(combined_df.head(5))\n",
        "\n",
        "# Connect to MongoDB \n",
        "client = MongoClient(\"mongodb://localhost:27017\")\n",
        "db = client[\"carlist_db\"]\n",
        "collection = db[\"listings\"]\n",
        "\n",
        "# Insert combined data into MongoDB\n",
        "collection.insert_many(combined_df.to_dict(orient=\"records\"))\n",
        "print(\"✅ Data inserted into MongoDB successfully.\")\n"
      ]
    },
    {
      "cell_type": "markdown",
      "metadata": {
        "id": "y1Cq0tMTfTam"
      },
      "source": [
        "## 2. Data Preparation and Cleaning"
      ]
    },
    {
      "cell_type": "markdown",
      "metadata": {
        "id": "O16MrEzIg5wx"
      },
      "source": [
        "In this phase of the project, we focus on preparing the combined dataset for analysis by cleaning and transforming the data. This step involves addressing common issues such as missing values, standardizing column names, removing irrelevant columns, and correcting any inconsistencies in the data. We will also handle data types to ensure that all columns are in the appropriate format for analysis. Proper data cleaning is essential to ensure the accuracy and consistency of the dataset before applying any optimization techniques or further analysis."
      ]
    },
    {
      "cell_type": "markdown",
      "metadata": {
        "id": "lVbqFpOYg7jI"
      },
      "source": [
        "### Install and Import Libraries"
      ]
    },
    {
      "cell_type": "markdown",
      "metadata": {
        "id": "YEPPNcSSg_dA"
      },
      "source": [
        "**1. Pandas**"
      ]
    },
    {
      "cell_type": "code",
      "execution_count": 19,
      "metadata": {
        "id": "j_VRKjGTg7QA"
      },
      "outputs": [],
      "source": [
        "import pandas as pd\n",
        "import numpy as np\n",
        "import time\n",
        "import psutil\n",
        "from pymongo import MongoClient"
      ]
    },
    {
      "cell_type": "markdown",
      "metadata": {
        "id": "t52lG5gzhFl1"
      },
      "source": [
        "**2. PySpark**"
      ]
    },
    {
      "cell_type": "markdown",
      "metadata": {
        "id": "tteMDBvshKU-"
      },
      "source": [
        "**3. Modin**"
      ]
    },
    {
      "cell_type": "code",
      "execution_count": 20,
      "metadata": {
        "id": "7iPO9Nx0hFZ2"
      },
      "outputs": [
        {
          "name": "stdout",
          "output_type": "stream",
          "text": [
            "Defaulting to user installation because normal site-packages is not writeable\n",
            "Requirement already satisfied: dask in c:\\programdata\\anaconda3\\lib\\site-packages (2024.5.0)\n",
            "Requirement already satisfied: distributed in c:\\programdata\\anaconda3\\lib\\site-packages (2024.5.0)\n",
            "Collecting modin[dask]\n",
            "  Downloading modin-0.32.0-py3-none-any.whl.metadata (17 kB)\n",
            "Requirement already satisfied: pandas<2.3,>=2.2 in c:\\programdata\\anaconda3\\lib\\site-packages (from modin[dask]) (2.2.2)\n",
            "Requirement already satisfied: packaging>=21.0 in c:\\users\\honor\\appdata\\roaming\\python\\python312\\site-packages (from modin[dask]) (24.0)\n",
            "Requirement already satisfied: numpy>=1.22.4 in c:\\programdata\\anaconda3\\lib\\site-packages (from modin[dask]) (1.26.4)\n",
            "Requirement already satisfied: fsspec>=2022.11.0 in c:\\programdata\\anaconda3\\lib\\site-packages (from modin[dask]) (2024.3.1)\n",
            "Requirement already satisfied: psutil>=5.8.0 in c:\\users\\honor\\appdata\\roaming\\python\\python312\\site-packages (from modin[dask]) (5.9.8)\n",
            "Requirement already satisfied: click>=8.1 in c:\\programdata\\anaconda3\\lib\\site-packages (from dask) (8.1.7)\n",
            "Requirement already satisfied: cloudpickle>=1.5.0 in c:\\programdata\\anaconda3\\lib\\site-packages (from dask) (2.2.1)\n",
            "Requirement already satisfied: partd>=1.2.0 in c:\\programdata\\anaconda3\\lib\\site-packages (from dask) (1.4.1)\n",
            "Requirement already satisfied: pyyaml>=5.3.1 in c:\\programdata\\anaconda3\\lib\\site-packages (from dask) (6.0.1)\n",
            "Requirement already satisfied: toolz>=0.10.0 in c:\\programdata\\anaconda3\\lib\\site-packages (from dask) (0.12.0)\n",
            "Requirement already satisfied: jinja2>=2.10.3 in c:\\programdata\\anaconda3\\lib\\site-packages (from distributed) (3.1.4)\n",
            "Requirement already satisfied: locket>=1.0.0 in c:\\programdata\\anaconda3\\lib\\site-packages (from distributed) (1.0.0)\n",
            "Requirement already satisfied: msgpack>=1.0.0 in c:\\programdata\\anaconda3\\lib\\site-packages (from distributed) (1.0.3)\n",
            "Requirement already satisfied: sortedcontainers>=2.0.5 in c:\\programdata\\anaconda3\\lib\\site-packages (from distributed) (2.4.0)\n",
            "Requirement already satisfied: tblib>=1.6.0 in c:\\programdata\\anaconda3\\lib\\site-packages (from distributed) (1.7.0)\n",
            "Requirement already satisfied: tornado>=6.0.4 in c:\\users\\honor\\appdata\\roaming\\python\\python312\\site-packages (from distributed) (6.4)\n",
            "Requirement already satisfied: urllib3>=1.24.3 in c:\\programdata\\anaconda3\\lib\\site-packages (from distributed) (2.2.2)\n",
            "Requirement already satisfied: zict>=3.0.0 in c:\\programdata\\anaconda3\\lib\\site-packages (from distributed) (3.0.0)\n",
            "Requirement already satisfied: colorama in c:\\users\\honor\\appdata\\roaming\\python\\python312\\site-packages (from click>=8.1->dask) (0.4.6)\n",
            "Requirement already satisfied: MarkupSafe>=2.0 in c:\\programdata\\anaconda3\\lib\\site-packages (from jinja2>=2.10.3->distributed) (2.1.3)\n",
            "Requirement already satisfied: python-dateutil>=2.8.2 in c:\\users\\honor\\appdata\\roaming\\python\\python312\\site-packages (from pandas<2.3,>=2.2->modin[dask]) (2.9.0.post0)\n",
            "Requirement already satisfied: pytz>=2020.1 in c:\\programdata\\anaconda3\\lib\\site-packages (from pandas<2.3,>=2.2->modin[dask]) (2024.1)\n",
            "Requirement already satisfied: tzdata>=2022.7 in c:\\programdata\\anaconda3\\lib\\site-packages (from pandas<2.3,>=2.2->modin[dask]) (2023.3)\n",
            "Requirement already satisfied: six>=1.5 in c:\\users\\honor\\appdata\\roaming\\python\\python312\\site-packages (from python-dateutil>=2.8.2->pandas<2.3,>=2.2->modin[dask]) (1.16.0)\n",
            "Downloading modin-0.32.0-py3-none-any.whl (1.1 MB)\n",
            "   ---------------------------------------- 0.0/1.1 MB ? eta -:--:--\n",
            "   ---------------------------------------- 0.0/1.1 MB ? eta -:--:--\n",
            "   - -------------------------------------- 0.0/1.1 MB 1.4 MB/s eta 0:00:01\n",
            "   - -------------------------------------- 0.0/1.1 MB 495.5 kB/s eta 0:00:03\n",
            "   ---- ----------------------------------- 0.1/1.1 MB 939.4 kB/s eta 0:00:02\n",
            "   -------- ------------------------------- 0.2/1.1 MB 1.4 MB/s eta 0:00:01\n",
            "   ------------ --------------------------- 0.3/1.1 MB 1.6 MB/s eta 0:00:01\n",
            "   ------------------------- -------------- 0.7/1.1 MB 2.7 MB/s eta 0:00:01\n",
            "   ---------------------------- ----------- 0.8/1.1 MB 2.7 MB/s eta 0:00:01\n",
            "   -------------------------------- ------- 0.9/1.1 MB 2.6 MB/s eta 0:00:01\n",
            "   ---------------------------------------  1.1/1.1 MB 2.8 MB/s eta 0:00:01\n",
            "   ---------------------------------------- 1.1/1.1 MB 2.6 MB/s eta 0:00:00\n",
            "Installing collected packages: modin\n",
            "Successfully installed modin-0.32.0\n",
            "Note: you may need to restart the kernel to use updated packages.\n"
          ]
        }
      ],
      "source": [
        "%pip install modin[dask] dask distributed"
      ]
    },
    {
      "cell_type": "code",
      "execution_count": 21,
      "metadata": {
        "id": "FZGaaTpOizKV"
      },
      "outputs": [],
      "source": [
        "import os\n",
        "os.environ[\"MODIN_ENGINE\"] = \"dask\"\n",
        "\n",
        "import modin.pandas as md\n",
        "import psutil\n",
        "import time"
      ]
    },
    {
      "cell_type": "markdown",
      "metadata": {
        "id": "avPAvBwdhLoL"
      },
      "source": [
        "**4. Dask**"
      ]
    },
    {
      "cell_type": "code",
      "execution_count": null,
      "metadata": {},
      "outputs": [],
      "source": [
        "%pip install dask\n",
        "%pip install dask pymongo\n",
        "\n"
      ]
    },
    {
      "cell_type": "code",
      "execution_count": 15,
      "metadata": {},
      "outputs": [],
      "source": [
        "import dask.dataframe as dd  # Dask for handling large dataframes\n",
        "import pandas as pd         # Pandas for smaller, in-memory operations (optional)\n",
        "import numpy as np "
      ]
    },
    {
      "cell_type": "markdown",
      "metadata": {
        "id": "s0VCKvwVjG5z"
      },
      "source": [
        "### Import Data"
      ]
    },
    {
      "cell_type": "markdown",
      "metadata": {
        "id": "3tAPf3F0jIyP"
      },
      "source": [
        "**1. Pandas**"
      ]
    },
    {
      "cell_type": "code",
      "execution_count": 70,
      "metadata": {
        "colab": {
          "base_uri": "https://localhost:8080/",
          "height": 730
        },
        "id": "8HNCkDynjheV",
        "outputId": "0b44670e-038a-4c82-d25d-dfabbdf44a03"
      },
      "outputs": [
        {
          "name": "stdout",
          "output_type": "stream",
          "text": [
            "✅ Data loaded from MongoDB\n",
            "CPU times: total: 2.31 s\n",
            "Wall time: 2.43 s\n"
          ]
        },
        {
          "data": {
            "text/html": [
              "<div>\n",
              "<style scoped>\n",
              "    .dataframe tbody tr th:only-of-type {\n",
              "        vertical-align: middle;\n",
              "    }\n",
              "\n",
              "    .dataframe tbody tr th {\n",
              "        vertical-align: top;\n",
              "    }\n",
              "\n",
              "    .dataframe thead th {\n",
              "        text-align: right;\n",
              "    }\n",
              "</style>\n",
              "<table border=\"1\" class=\"dataframe\">\n",
              "  <thead>\n",
              "    <tr style=\"text-align: right;\">\n",
              "      <th></th>\n",
              "      <th>Car Name</th>\n",
              "      <th>Car Brand</th>\n",
              "      <th>Car Model</th>\n",
              "      <th>Manufacture Year</th>\n",
              "      <th>Body Type</th>\n",
              "      <th>Fuel Type</th>\n",
              "      <th>Mileage</th>\n",
              "      <th>Transmission</th>\n",
              "      <th>Color</th>\n",
              "      <th>Price</th>\n",
              "      <th>Installment</th>\n",
              "      <th>Condition</th>\n",
              "      <th>Seating Capacity</th>\n",
              "      <th>Location</th>\n",
              "      <th>Sales Channel</th>\n",
              "      <th>Seat Capacity</th>\n",
              "      <th>URL</th>\n",
              "    </tr>\n",
              "  </thead>\n",
              "  <tbody>\n",
              "    <tr>\n",
              "      <th>0</th>\n",
              "      <td>2023 Lexus RX350 2.4 F Sport SUV</td>\n",
              "      <td>Lexus</td>\n",
              "      <td>RX350</td>\n",
              "      <td>2023</td>\n",
              "      <td>SUV</td>\n",
              "      <td>Petrol - Unleaded (ULP)</td>\n",
              "      <td>5 - 10K KM</td>\n",
              "      <td>Automatic</td>\n",
              "      <td>Black</td>\n",
              "      <td>375000</td>\n",
              "      <td>RM 4,862/month</td>\n",
              "      <td>http://schema.org/RefurbishedCondition</td>\n",
              "      <td>5</td>\n",
              "      <td>Selangor, Klang</td>\n",
              "      <td>Sales Agent                                   ...</td>\n",
              "      <td>NaN</td>\n",
              "      <td>NaN</td>\n",
              "    </tr>\n",
              "    <tr>\n",
              "      <th>1</th>\n",
              "      <td>2010 Toyota Estima 2.4 Aeras MPV Hot Mpv Car I...</td>\n",
              "      <td>Toyota</td>\n",
              "      <td>Estima</td>\n",
              "      <td>2010</td>\n",
              "      <td>MPV</td>\n",
              "      <td>Petrol - Unleaded (ULP)</td>\n",
              "      <td>115 - 120K KM</td>\n",
              "      <td>Automatic</td>\n",
              "      <td>White</td>\n",
              "      <td>55999</td>\n",
              "      <td>RM 726/month</td>\n",
              "      <td>http://schema.org/UsedCondition</td>\n",
              "      <td>7</td>\n",
              "      <td>Selangor, Kajang</td>\n",
              "      <td>Sales Agent                                   ...</td>\n",
              "      <td>NaN</td>\n",
              "      <td>NaN</td>\n",
              "    </tr>\n",
              "    <tr>\n",
              "      <th>2</th>\n",
              "      <td>2020 Porsche Cayenne Coupe 4.0 V8 Turbo AWD Un...</td>\n",
              "      <td>Porsche</td>\n",
              "      <td>Cayenne</td>\n",
              "      <td>2020</td>\n",
              "      <td>Coupe</td>\n",
              "      <td>Petrol - Unleaded (ULP)</td>\n",
              "      <td>20 - 25K KM</td>\n",
              "      <td>Automatic</td>\n",
              "      <td>Grey</td>\n",
              "      <td>662222</td>\n",
              "      <td>RM 8,585/month</td>\n",
              "      <td>http://schema.org/RefurbishedCondition</td>\n",
              "      <td>4</td>\n",
              "      <td>Selangor, Klang</td>\n",
              "      <td>Sales Agent                                   ...</td>\n",
              "      <td>NaN</td>\n",
              "      <td>NaN</td>\n",
              "    </tr>\n",
              "    <tr>\n",
              "      <th>3</th>\n",
              "      <td>2021 Honda City 1.5 V i-VTEC Hatchback</td>\n",
              "      <td>Honda</td>\n",
              "      <td>City</td>\n",
              "      <td>2021</td>\n",
              "      <td>Hatchback</td>\n",
              "      <td>Petrol - Unleaded (ULP)</td>\n",
              "      <td>90 - 95K KM</td>\n",
              "      <td>Automatic</td>\n",
              "      <td>Silver</td>\n",
              "      <td>67000</td>\n",
              "      <td>RM 869/month</td>\n",
              "      <td>http://schema.org/UsedCondition</td>\n",
              "      <td>5</td>\n",
              "      <td>Johor, Ulu Tiram</td>\n",
              "      <td>Sales Agent                                   ...</td>\n",
              "      <td>NaN</td>\n",
              "      <td>NaN</td>\n",
              "    </tr>\n",
              "    <tr>\n",
              "      <th>4</th>\n",
              "      <td>2022 Toyota Corolla Cross 1.8 V SUV Full Servi...</td>\n",
              "      <td>Toyota</td>\n",
              "      <td>Corolla Cross</td>\n",
              "      <td>2022</td>\n",
              "      <td>SUV</td>\n",
              "      <td>Petrol - Unleaded (ULP)</td>\n",
              "      <td>80 - 85K KM</td>\n",
              "      <td>Automatic</td>\n",
              "      <td>White</td>\n",
              "      <td>98999</td>\n",
              "      <td>RM 1,283/month</td>\n",
              "      <td>http://schema.org/UsedCondition</td>\n",
              "      <td>5</td>\n",
              "      <td>Selangor, Kajang</td>\n",
              "      <td>Sales Agent                                   ...</td>\n",
              "      <td>NaN</td>\n",
              "      <td>NaN</td>\n",
              "    </tr>\n",
              "  </tbody>\n",
              "</table>\n",
              "</div>"
            ],
            "text/plain": [
              "                                            Car Name Car Brand      Car Model  \\\n",
              "0                   2023 Lexus RX350 2.4 F Sport SUV     Lexus          RX350   \n",
              "1  2010 Toyota Estima 2.4 Aeras MPV Hot Mpv Car I...    Toyota         Estima   \n",
              "2  2020 Porsche Cayenne Coupe 4.0 V8 Turbo AWD Un...   Porsche        Cayenne   \n",
              "3             2021 Honda City 1.5 V i-VTEC Hatchback     Honda           City   \n",
              "4  2022 Toyota Corolla Cross 1.8 V SUV Full Servi...    Toyota  Corolla Cross   \n",
              "\n",
              "   Manufacture Year  Body Type                Fuel Type            Mileage  \\\n",
              "0              2023        SUV  Petrol - Unleaded (ULP)     5 - 10K KM       \n",
              "1              2010        MPV  Petrol - Unleaded (ULP)  115 - 120K KM       \n",
              "2              2020      Coupe  Petrol - Unleaded (ULP)    20 - 25K KM       \n",
              "3              2021  Hatchback  Petrol - Unleaded (ULP)    90 - 95K KM       \n",
              "4              2022        SUV  Petrol - Unleaded (ULP)    80 - 85K KM       \n",
              "\n",
              "  Transmission   Color   Price     Installment  \\\n",
              "0    Automatic   Black  375000  RM 4,862/month   \n",
              "1    Automatic   White   55999    RM 726/month   \n",
              "2    Automatic    Grey  662222  RM 8,585/month   \n",
              "3    Automatic  Silver   67000    RM 869/month   \n",
              "4    Automatic   White   98999  RM 1,283/month   \n",
              "\n",
              "                                Condition Seating Capacity           Location  \\\n",
              "0  http://schema.org/RefurbishedCondition                5   Selangor, Klang    \n",
              "1         http://schema.org/UsedCondition                7  Selangor, Kajang    \n",
              "2  http://schema.org/RefurbishedCondition                4   Selangor, Klang    \n",
              "3         http://schema.org/UsedCondition                5  Johor, Ulu Tiram    \n",
              "4         http://schema.org/UsedCondition                5  Selangor, Kajang    \n",
              "\n",
              "                                       Sales Channel Seat Capacity  URL  \n",
              "0  Sales Agent                                   ...           NaN  NaN  \n",
              "1  Sales Agent                                   ...           NaN  NaN  \n",
              "2  Sales Agent                                   ...           NaN  NaN  \n",
              "3  Sales Agent                                   ...           NaN  NaN  \n",
              "4  Sales Agent                                   ...           NaN  NaN  "
            ]
          },
          "execution_count": 70,
          "metadata": {},
          "output_type": "execute_result"
        }
      ],
      "source": [
        "%%time\n",
        "\n",
        "# Read from MongoDB into pandas DataFrame\n",
        "data = list(collection.find())  # Fetch all documents as a list of dicts\n",
        "df_pandas = pd.DataFrame(data)\n",
        "\n",
        "# Drop the MongoDB-generated '_id' column\n",
        "df_pandas.drop(columns=['_id'], inplace=True)\n",
        "\n",
        "# Output preview\n",
        "print(\"✅ Data loaded from MongoDB\")\n",
        "df_pandas.head()"
      ]
    },
    {
      "cell_type": "markdown",
      "metadata": {
        "id": "mDE92E-RjMQB"
      },
      "source": [
        "**2. PySpark**"
      ]
    },
    {
      "cell_type": "markdown",
      "metadata": {
        "id": "t40YVUpUjMiR"
      },
      "source": [
        "**3. Modin**"
      ]
    },
    {
      "cell_type": "code",
      "execution_count": 6,
      "metadata": {
        "colab": {
          "base_uri": "https://localhost:8080/",
          "height": 675
        },
        "id": "xJNyDaF9pyo4",
        "outputId": "24329b1c-2f92-4a79-f977-808effffa794"
      },
      "outputs": [
        {
          "name": "stderr",
          "output_type": "stream",
          "text": [
            "UserWarning: Port 8787 is already in use.\n",
            "Perhaps you already have a cluster running?\n",
            "Hosting the HTTP server on port 49997 instead\n",
            "UserWarning: Distributing <class 'list'> object. This may take some time.\n"
          ]
        },
        {
          "name": "stdout",
          "output_type": "stream",
          "text": [
            "Data loaded from MongoDB\n",
            "CPU times: total: 6.28 s\n",
            "Wall time: 22.2 s\n"
          ]
        },
        {
          "data": {
            "text/html": [
              "<div>\n",
              "<style scoped>\n",
              "    .dataframe tbody tr th:only-of-type {\n",
              "        vertical-align: middle;\n",
              "    }\n",
              "\n",
              "    .dataframe tbody tr th {\n",
              "        vertical-align: top;\n",
              "    }\n",
              "\n",
              "    .dataframe thead th {\n",
              "        text-align: right;\n",
              "    }\n",
              "</style>\n",
              "<table border=\"1\" class=\"dataframe\">\n",
              "  <thead>\n",
              "    <tr style=\"text-align: right;\">\n",
              "      <th></th>\n",
              "      <th>Car Name</th>\n",
              "      <th>Car Brand</th>\n",
              "      <th>Car Model</th>\n",
              "      <th>Manufacture Year</th>\n",
              "      <th>Body Type</th>\n",
              "      <th>Fuel Type</th>\n",
              "      <th>Mileage</th>\n",
              "      <th>Transmission</th>\n",
              "      <th>Color</th>\n",
              "      <th>Price</th>\n",
              "      <th>Installment</th>\n",
              "      <th>Condition</th>\n",
              "      <th>Seating Capacity</th>\n",
              "      <th>Location</th>\n",
              "      <th>Sales Channel</th>\n",
              "      <th>Seat Capacity</th>\n",
              "      <th>URL</th>\n",
              "    </tr>\n",
              "  </thead>\n",
              "  <tbody>\n",
              "    <tr>\n",
              "      <th>0</th>\n",
              "      <td>2023 Lexus RX350 2.4 F Sport SUV</td>\n",
              "      <td>Lexus</td>\n",
              "      <td>RX350</td>\n",
              "      <td>2023</td>\n",
              "      <td>SUV</td>\n",
              "      <td>Petrol - Unleaded (ULP)</td>\n",
              "      <td>5 - 10K KM</td>\n",
              "      <td>Automatic</td>\n",
              "      <td>Black</td>\n",
              "      <td>375000</td>\n",
              "      <td>RM 4,862/month</td>\n",
              "      <td>http://schema.org/RefurbishedCondition</td>\n",
              "      <td>5</td>\n",
              "      <td>Selangor, Klang</td>\n",
              "      <td>Sales Agent                                   ...</td>\n",
              "      <td>NaN</td>\n",
              "      <td>NaN</td>\n",
              "    </tr>\n",
              "    <tr>\n",
              "      <th>1</th>\n",
              "      <td>2010 Toyota Estima 2.4 Aeras MPV Hot Mpv Car I...</td>\n",
              "      <td>Toyota</td>\n",
              "      <td>Estima</td>\n",
              "      <td>2010</td>\n",
              "      <td>MPV</td>\n",
              "      <td>Petrol - Unleaded (ULP)</td>\n",
              "      <td>115 - 120K KM</td>\n",
              "      <td>Automatic</td>\n",
              "      <td>White</td>\n",
              "      <td>55999</td>\n",
              "      <td>RM 726/month</td>\n",
              "      <td>http://schema.org/UsedCondition</td>\n",
              "      <td>7</td>\n",
              "      <td>Selangor, Kajang</td>\n",
              "      <td>Sales Agent                                   ...</td>\n",
              "      <td>NaN</td>\n",
              "      <td>NaN</td>\n",
              "    </tr>\n",
              "    <tr>\n",
              "      <th>2</th>\n",
              "      <td>2020 Porsche Cayenne Coupe 4.0 V8 Turbo AWD Un...</td>\n",
              "      <td>Porsche</td>\n",
              "      <td>Cayenne</td>\n",
              "      <td>2020</td>\n",
              "      <td>Coupe</td>\n",
              "      <td>Petrol - Unleaded (ULP)</td>\n",
              "      <td>20 - 25K KM</td>\n",
              "      <td>Automatic</td>\n",
              "      <td>Grey</td>\n",
              "      <td>662222</td>\n",
              "      <td>RM 8,585/month</td>\n",
              "      <td>http://schema.org/RefurbishedCondition</td>\n",
              "      <td>4</td>\n",
              "      <td>Selangor, Klang</td>\n",
              "      <td>Sales Agent                                   ...</td>\n",
              "      <td>NaN</td>\n",
              "      <td>NaN</td>\n",
              "    </tr>\n",
              "    <tr>\n",
              "      <th>3</th>\n",
              "      <td>2021 Honda City 1.5 V i-VTEC Hatchback</td>\n",
              "      <td>Honda</td>\n",
              "      <td>City</td>\n",
              "      <td>2021</td>\n",
              "      <td>Hatchback</td>\n",
              "      <td>Petrol - Unleaded (ULP)</td>\n",
              "      <td>90 - 95K KM</td>\n",
              "      <td>Automatic</td>\n",
              "      <td>Silver</td>\n",
              "      <td>67000</td>\n",
              "      <td>RM 869/month</td>\n",
              "      <td>http://schema.org/UsedCondition</td>\n",
              "      <td>5</td>\n",
              "      <td>Johor, Ulu Tiram</td>\n",
              "      <td>Sales Agent                                   ...</td>\n",
              "      <td>NaN</td>\n",
              "      <td>NaN</td>\n",
              "    </tr>\n",
              "    <tr>\n",
              "      <th>4</th>\n",
              "      <td>2022 Toyota Corolla Cross 1.8 V SUV Full Servi...</td>\n",
              "      <td>Toyota</td>\n",
              "      <td>Corolla Cross</td>\n",
              "      <td>2022</td>\n",
              "      <td>SUV</td>\n",
              "      <td>Petrol - Unleaded (ULP)</td>\n",
              "      <td>80 - 85K KM</td>\n",
              "      <td>Automatic</td>\n",
              "      <td>White</td>\n",
              "      <td>98999</td>\n",
              "      <td>RM 1,283/month</td>\n",
              "      <td>http://schema.org/UsedCondition</td>\n",
              "      <td>5</td>\n",
              "      <td>Selangor, Kajang</td>\n",
              "      <td>Sales Agent                                   ...</td>\n",
              "      <td>NaN</td>\n",
              "      <td>NaN</td>\n",
              "    </tr>\n",
              "  </tbody>\n",
              "</table>\n",
              "</div>"
            ],
            "text/plain": [
              "                                            Car Name Car Brand      Car Model  \\\n",
              "0                   2023 Lexus RX350 2.4 F Sport SUV     Lexus          RX350   \n",
              "1  2010 Toyota Estima 2.4 Aeras MPV Hot Mpv Car I...    Toyota         Estima   \n",
              "2  2020 Porsche Cayenne Coupe 4.0 V8 Turbo AWD Un...   Porsche        Cayenne   \n",
              "3             2021 Honda City 1.5 V i-VTEC Hatchback     Honda           City   \n",
              "4  2022 Toyota Corolla Cross 1.8 V SUV Full Servi...    Toyota  Corolla Cross   \n",
              "\n",
              "   Manufacture Year  Body Type                Fuel Type            Mileage  \\\n",
              "0              2023        SUV  Petrol - Unleaded (ULP)     5 - 10K KM       \n",
              "1              2010        MPV  Petrol - Unleaded (ULP)  115 - 120K KM       \n",
              "2              2020      Coupe  Petrol - Unleaded (ULP)    20 - 25K KM       \n",
              "3              2021  Hatchback  Petrol - Unleaded (ULP)    90 - 95K KM       \n",
              "4              2022        SUV  Petrol - Unleaded (ULP)    80 - 85K KM       \n",
              "\n",
              "  Transmission   Color   Price     Installment  \\\n",
              "0    Automatic   Black  375000  RM 4,862/month   \n",
              "1    Automatic   White   55999    RM 726/month   \n",
              "2    Automatic    Grey  662222  RM 8,585/month   \n",
              "3    Automatic  Silver   67000    RM 869/month   \n",
              "4    Automatic   White   98999  RM 1,283/month   \n",
              "\n",
              "                                Condition Seating Capacity           Location  \\\n",
              "0  http://schema.org/RefurbishedCondition                5   Selangor, Klang    \n",
              "1         http://schema.org/UsedCondition                7  Selangor, Kajang    \n",
              "2  http://schema.org/RefurbishedCondition                4   Selangor, Klang    \n",
              "3         http://schema.org/UsedCondition                5  Johor, Ulu Tiram    \n",
              "4         http://schema.org/UsedCondition                5  Selangor, Kajang    \n",
              "\n",
              "                                       Sales Channel Seat Capacity  URL  \n",
              "0  Sales Agent                                   ...           NaN  NaN  \n",
              "1  Sales Agent                                   ...           NaN  NaN  \n",
              "2  Sales Agent                                   ...           NaN  NaN  \n",
              "3  Sales Agent                                   ...           NaN  NaN  \n",
              "4  Sales Agent                                   ...           NaN  NaN  "
            ]
          },
          "execution_count": 6,
          "metadata": {},
          "output_type": "execute_result"
        }
      ],
      "source": [
        "%%time\n",
        "\n",
        "# Read from MongoDB into pandas DataFrame\n",
        "data = list(collection.find())  # Fetch all documents as a list of dicts\n",
        "df_modin = md.DataFrame(data)\n",
        "\n",
        "# Drop the MongoDB-generated '_id' column\n",
        "df_modin.drop(columns=['_id'], inplace=True)\n",
        "\n",
        "# Output preview\n",
        "print(\"Data loaded from MongoDB\")\n",
        "df_modin.head()"
      ]
    },
    {
      "cell_type": "markdown",
      "metadata": {
        "id": "AJMLRJgwjNL_"
      },
      "source": [
        "**4. Dask**"
      ]
    },
    {
      "cell_type": "code",
      "execution_count": 13,
      "metadata": {},
      "outputs": [
        {
          "ename": "FileNotFoundError",
          "evalue": "An error occurred while calling the read_csv method registered to the pandas backend.\nOriginal Message: [WinError 2] The system cannot find the file specified: 'c:/Users/Honor/OneDrive - Universiti Teknologi Malaysia (UTM)/Desktop/final/final/path_to_your_data.csv'",
          "output_type": "error",
          "traceback": [
            "\u001b[1;31m---------------------------------------------------------------------------\u001b[0m",
            "\u001b[1;31mFileNotFoundError\u001b[0m                         Traceback (most recent call last)",
            "File \u001b[1;32mc:\\ProgramData\\anaconda3\\Lib\\site-packages\\dask\\backends.py:140\u001b[0m, in \u001b[0;36mCreationDispatch.register_inplace.<locals>.decorator.<locals>.wrapper\u001b[1;34m(*args, **kwargs)\u001b[0m\n\u001b[0;32m    139\u001b[0m \u001b[38;5;28;01mtry\u001b[39;00m:\n\u001b[1;32m--> 140\u001b[0m     \u001b[38;5;28;01mreturn\u001b[39;00m \u001b[43mfunc\u001b[49m\u001b[43m(\u001b[49m\u001b[38;5;241;43m*\u001b[39;49m\u001b[43margs\u001b[49m\u001b[43m,\u001b[49m\u001b[43m \u001b[49m\u001b[38;5;241;43m*\u001b[39;49m\u001b[38;5;241;43m*\u001b[39;49m\u001b[43mkwargs\u001b[49m\u001b[43m)\u001b[49m\n\u001b[0;32m    141\u001b[0m \u001b[38;5;28;01mexcept\u001b[39;00m \u001b[38;5;167;01mException\u001b[39;00m \u001b[38;5;28;01mas\u001b[39;00m e:\n",
            "File \u001b[1;32mc:\\ProgramData\\anaconda3\\Lib\\site-packages\\dask\\dataframe\\io\\csv.py:771\u001b[0m, in \u001b[0;36mmake_reader.<locals>.read\u001b[1;34m(urlpath, blocksize, lineterminator, compression, sample, sample_rows, enforce, assume_missing, storage_options, include_path_column, **kwargs)\u001b[0m\n\u001b[0;32m    758\u001b[0m \u001b[38;5;28;01mdef\u001b[39;00m \u001b[38;5;21mread\u001b[39m(\n\u001b[0;32m    759\u001b[0m     urlpath,\n\u001b[0;32m    760\u001b[0m     blocksize\u001b[38;5;241m=\u001b[39m\u001b[38;5;124m\"\u001b[39m\u001b[38;5;124mdefault\u001b[39m\u001b[38;5;124m\"\u001b[39m,\n\u001b[1;32m   (...)\u001b[0m\n\u001b[0;32m    769\u001b[0m     \u001b[38;5;241m*\u001b[39m\u001b[38;5;241m*\u001b[39mkwargs,\n\u001b[0;32m    770\u001b[0m ):\n\u001b[1;32m--> 771\u001b[0m     \u001b[38;5;28;01mreturn\u001b[39;00m \u001b[43mread_pandas\u001b[49m\u001b[43m(\u001b[49m\n\u001b[0;32m    772\u001b[0m \u001b[43m        \u001b[49m\u001b[43mreader\u001b[49m\u001b[43m,\u001b[49m\n\u001b[0;32m    773\u001b[0m \u001b[43m        \u001b[49m\u001b[43murlpath\u001b[49m\u001b[43m,\u001b[49m\n\u001b[0;32m    774\u001b[0m \u001b[43m        \u001b[49m\u001b[43mblocksize\u001b[49m\u001b[38;5;241;43m=\u001b[39;49m\u001b[43mblocksize\u001b[49m\u001b[43m,\u001b[49m\n\u001b[0;32m    775\u001b[0m \u001b[43m        \u001b[49m\u001b[43mlineterminator\u001b[49m\u001b[38;5;241;43m=\u001b[39;49m\u001b[43mlineterminator\u001b[49m\u001b[43m,\u001b[49m\n\u001b[0;32m    776\u001b[0m \u001b[43m        \u001b[49m\u001b[43mcompression\u001b[49m\u001b[38;5;241;43m=\u001b[39;49m\u001b[43mcompression\u001b[49m\u001b[43m,\u001b[49m\n\u001b[0;32m    777\u001b[0m \u001b[43m        \u001b[49m\u001b[43msample\u001b[49m\u001b[38;5;241;43m=\u001b[39;49m\u001b[43msample\u001b[49m\u001b[43m,\u001b[49m\n\u001b[0;32m    778\u001b[0m \u001b[43m        \u001b[49m\u001b[43msample_rows\u001b[49m\u001b[38;5;241;43m=\u001b[39;49m\u001b[43msample_rows\u001b[49m\u001b[43m,\u001b[49m\n\u001b[0;32m    779\u001b[0m \u001b[43m        \u001b[49m\u001b[43menforce\u001b[49m\u001b[38;5;241;43m=\u001b[39;49m\u001b[43menforce\u001b[49m\u001b[43m,\u001b[49m\n\u001b[0;32m    780\u001b[0m \u001b[43m        \u001b[49m\u001b[43massume_missing\u001b[49m\u001b[38;5;241;43m=\u001b[39;49m\u001b[43massume_missing\u001b[49m\u001b[43m,\u001b[49m\n\u001b[0;32m    781\u001b[0m \u001b[43m        \u001b[49m\u001b[43mstorage_options\u001b[49m\u001b[38;5;241;43m=\u001b[39;49m\u001b[43mstorage_options\u001b[49m\u001b[43m,\u001b[49m\n\u001b[0;32m    782\u001b[0m \u001b[43m        \u001b[49m\u001b[43minclude_path_column\u001b[49m\u001b[38;5;241;43m=\u001b[39;49m\u001b[43minclude_path_column\u001b[49m\u001b[43m,\u001b[49m\n\u001b[0;32m    783\u001b[0m \u001b[43m        \u001b[49m\u001b[38;5;241;43m*\u001b[39;49m\u001b[38;5;241;43m*\u001b[39;49m\u001b[43mkwargs\u001b[49m\u001b[43m,\u001b[49m\n\u001b[0;32m    784\u001b[0m \u001b[43m    \u001b[49m\u001b[43m)\u001b[49m\n",
            "File \u001b[1;32mc:\\ProgramData\\anaconda3\\Lib\\site-packages\\dask\\dataframe\\io\\csv.py:571\u001b[0m, in \u001b[0;36mread_pandas\u001b[1;34m(reader, urlpath, blocksize, lineterminator, compression, sample, sample_rows, enforce, assume_missing, storage_options, include_path_column, **kwargs)\u001b[0m\n\u001b[0;32m    570\u001b[0m     sample \u001b[38;5;241m=\u001b[39m blocksize\n\u001b[1;32m--> 571\u001b[0m b_out \u001b[38;5;241m=\u001b[39m \u001b[43mread_bytes\u001b[49m\u001b[43m(\u001b[49m\n\u001b[0;32m    572\u001b[0m \u001b[43m    \u001b[49m\u001b[43murlpath\u001b[49m\u001b[43m,\u001b[49m\n\u001b[0;32m    573\u001b[0m \u001b[43m    \u001b[49m\u001b[43mdelimiter\u001b[49m\u001b[38;5;241;43m=\u001b[39;49m\u001b[43mb_lineterminator\u001b[49m\u001b[43m,\u001b[49m\n\u001b[0;32m    574\u001b[0m \u001b[43m    \u001b[49m\u001b[43mblocksize\u001b[49m\u001b[38;5;241;43m=\u001b[39;49m\u001b[43mblocksize\u001b[49m\u001b[43m,\u001b[49m\n\u001b[0;32m    575\u001b[0m \u001b[43m    \u001b[49m\u001b[43msample\u001b[49m\u001b[38;5;241;43m=\u001b[39;49m\u001b[43msample\u001b[49m\u001b[43m,\u001b[49m\n\u001b[0;32m    576\u001b[0m \u001b[43m    \u001b[49m\u001b[43mcompression\u001b[49m\u001b[38;5;241;43m=\u001b[39;49m\u001b[43mcompression\u001b[49m\u001b[43m,\u001b[49m\n\u001b[0;32m    577\u001b[0m \u001b[43m    \u001b[49m\u001b[43minclude_path\u001b[49m\u001b[38;5;241;43m=\u001b[39;49m\u001b[43minclude_path_column\u001b[49m\u001b[43m,\u001b[49m\n\u001b[0;32m    578\u001b[0m \u001b[43m    \u001b[49m\u001b[38;5;241;43m*\u001b[39;49m\u001b[38;5;241;43m*\u001b[39;49m\u001b[43m(\u001b[49m\u001b[43mstorage_options\u001b[49m\u001b[43m \u001b[49m\u001b[38;5;129;43;01mor\u001b[39;49;00m\u001b[43m \u001b[49m\u001b[43m{\u001b[49m\u001b[43m}\u001b[49m\u001b[43m)\u001b[49m\u001b[43m,\u001b[49m\n\u001b[0;32m    579\u001b[0m \u001b[43m\u001b[49m\u001b[43m)\u001b[49m\n\u001b[0;32m    581\u001b[0m \u001b[38;5;28;01mif\u001b[39;00m include_path_column:\n",
            "File \u001b[1;32mc:\\ProgramData\\anaconda3\\Lib\\site-packages\\dask\\bytes\\core.py:111\u001b[0m, in \u001b[0;36mread_bytes\u001b[1;34m(urlpath, delimiter, not_zero, blocksize, sample, compression, include_path, **kwargs)\u001b[0m\n\u001b[0;32m    107\u001b[0m     \u001b[38;5;28;01mraise\u001b[39;00m \u001b[38;5;167;01mValueError\u001b[39;00m(\n\u001b[0;32m    108\u001b[0m         \u001b[38;5;124m\"\u001b[39m\u001b[38;5;124mCannot do chunked reads on compressed files. \u001b[39m\u001b[38;5;124m\"\u001b[39m\n\u001b[0;32m    109\u001b[0m         \u001b[38;5;124m\"\u001b[39m\u001b[38;5;124mTo read, set blocksize=None\u001b[39m\u001b[38;5;124m\"\u001b[39m\n\u001b[0;32m    110\u001b[0m     )\n\u001b[1;32m--> 111\u001b[0m size \u001b[38;5;241m=\u001b[39m \u001b[43mfs\u001b[49m\u001b[38;5;241;43m.\u001b[39;49m\u001b[43minfo\u001b[49m\u001b[43m(\u001b[49m\u001b[43mpath\u001b[49m\u001b[43m)\u001b[49m[\u001b[38;5;124m\"\u001b[39m\u001b[38;5;124msize\u001b[39m\u001b[38;5;124m\"\u001b[39m]\n\u001b[0;32m    112\u001b[0m \u001b[38;5;28;01mif\u001b[39;00m size \u001b[38;5;129;01mis\u001b[39;00m \u001b[38;5;28;01mNone\u001b[39;00m:\n",
            "File \u001b[1;32mc:\\ProgramData\\anaconda3\\Lib\\site-packages\\fsspec\\implementations\\local.py:92\u001b[0m, in \u001b[0;36mLocalFileSystem.info\u001b[1;34m(self, path, **kwargs)\u001b[0m\n\u001b[0;32m     91\u001b[0m path \u001b[38;5;241m=\u001b[39m \u001b[38;5;28mself\u001b[39m\u001b[38;5;241m.\u001b[39m_strip_protocol(path)\n\u001b[1;32m---> 92\u001b[0m out \u001b[38;5;241m=\u001b[39m \u001b[43mos\u001b[49m\u001b[38;5;241;43m.\u001b[39;49m\u001b[43mstat\u001b[49m\u001b[43m(\u001b[49m\u001b[43mpath\u001b[49m\u001b[43m,\u001b[49m\u001b[43m \u001b[49m\u001b[43mfollow_symlinks\u001b[49m\u001b[38;5;241;43m=\u001b[39;49m\u001b[38;5;28;43;01mFalse\u001b[39;49;00m\u001b[43m)\u001b[49m\n\u001b[0;32m     93\u001b[0m link \u001b[38;5;241m=\u001b[39m stat\u001b[38;5;241m.\u001b[39mS_ISLNK(out\u001b[38;5;241m.\u001b[39mst_mode)\n",
            "\u001b[1;31mFileNotFoundError\u001b[0m: [WinError 2] The system cannot find the file specified: 'c:/Users/Honor/OneDrive - Universiti Teknologi Malaysia (UTM)/Desktop/final/final/path_to_your_data.csv'",
            "\nThe above exception was the direct cause of the following exception:\n",
            "\u001b[1;31mFileNotFoundError\u001b[0m                         Traceback (most recent call last)",
            "Cell \u001b[1;32mIn[13], line 4\u001b[0m\n\u001b[0;32m      1\u001b[0m \u001b[38;5;66;03m# %%time (if you're using Jupyter notebook to check execution time)\u001b[39;00m\n\u001b[0;32m      2\u001b[0m \n\u001b[0;32m      3\u001b[0m \u001b[38;5;66;03m# Read data from CSV file into Dask DataFrame (similar to Pandas)\u001b[39;00m\n\u001b[1;32m----> 4\u001b[0m df_dask \u001b[38;5;241m=\u001b[39m \u001b[43mdd\u001b[49m\u001b[38;5;241;43m.\u001b[39;49m\u001b[43mread_csv\u001b[49m\u001b[43m(\u001b[49m\u001b[38;5;124;43m'\u001b[39;49m\u001b[38;5;124;43mpath_to_your_data.csv\u001b[39;49m\u001b[38;5;124;43m'\u001b[39;49m\u001b[43m)\u001b[49m\n\u001b[0;32m      6\u001b[0m \u001b[38;5;66;03m# Drop a column (just like in the MongoDB example)\u001b[39;00m\n\u001b[0;32m      7\u001b[0m \u001b[38;5;66;03m# Replace 'column_name' with the actual column you want to drop (e.g., '_id')\u001b[39;00m\n\u001b[0;32m      8\u001b[0m df_dask \u001b[38;5;241m=\u001b[39m df_dask\u001b[38;5;241m.\u001b[39mdrop(columns\u001b[38;5;241m=\u001b[39m[\u001b[38;5;124m'\u001b[39m\u001b[38;5;124mcolumn_name\u001b[39m\u001b[38;5;124m'\u001b[39m])\n",
            "File \u001b[1;32mc:\\ProgramData\\anaconda3\\Lib\\site-packages\\dask_expr\\_collection.py:5086\u001b[0m, in \u001b[0;36mread_csv\u001b[1;34m(path, header, usecols, dtype_backend, storage_options, *args, **kwargs)\u001b[0m\n\u001b[0;32m   5084\u001b[0m \u001b[38;5;28;01mif\u001b[39;00m \u001b[38;5;129;01mnot\u001b[39;00m \u001b[38;5;28misinstance\u001b[39m(path, \u001b[38;5;28mstr\u001b[39m):\n\u001b[0;32m   5085\u001b[0m     path \u001b[38;5;241m=\u001b[39m stringify_path(path)\n\u001b[1;32m-> 5086\u001b[0m \u001b[38;5;28;01mreturn\u001b[39;00m \u001b[43mnew_collection\u001b[49m\u001b[43m(\u001b[49m\n\u001b[0;32m   5087\u001b[0m \u001b[43m    \u001b[49m\u001b[43mReadCSV\u001b[49m\u001b[43m(\u001b[49m\n\u001b[0;32m   5088\u001b[0m \u001b[43m        \u001b[49m\u001b[43mpath\u001b[49m\u001b[43m,\u001b[49m\n\u001b[0;32m   5089\u001b[0m \u001b[43m        \u001b[49m\u001b[43mcolumns\u001b[49m\u001b[38;5;241;43m=\u001b[39;49m\u001b[43musecols\u001b[49m\u001b[43m,\u001b[49m\n\u001b[0;32m   5090\u001b[0m \u001b[43m        \u001b[49m\u001b[43mdtype_backend\u001b[49m\u001b[38;5;241;43m=\u001b[39;49m\u001b[43mdtype_backend\u001b[49m\u001b[43m,\u001b[49m\n\u001b[0;32m   5091\u001b[0m \u001b[43m        \u001b[49m\u001b[43mstorage_options\u001b[49m\u001b[38;5;241;43m=\u001b[39;49m\u001b[43mstorage_options\u001b[49m\u001b[43m,\u001b[49m\n\u001b[0;32m   5092\u001b[0m \u001b[43m        \u001b[49m\u001b[43mkwargs\u001b[49m\u001b[38;5;241;43m=\u001b[39;49m\u001b[43mkwargs\u001b[49m\u001b[43m,\u001b[49m\n\u001b[0;32m   5093\u001b[0m \u001b[43m        \u001b[49m\u001b[43mheader\u001b[49m\u001b[38;5;241;43m=\u001b[39;49m\u001b[43mheader\u001b[49m\u001b[43m,\u001b[49m\n\u001b[0;32m   5094\u001b[0m \u001b[43m        \u001b[49m\u001b[43mdataframe_backend\u001b[49m\u001b[38;5;241;43m=\u001b[39;49m\u001b[43mdataframe_backend\u001b[49m\u001b[43m,\u001b[49m\n\u001b[0;32m   5095\u001b[0m \u001b[43m    \u001b[49m\u001b[43m)\u001b[49m\n\u001b[0;32m   5096\u001b[0m \u001b[43m\u001b[49m\u001b[43m)\u001b[49m\n",
            "File \u001b[1;32mc:\\ProgramData\\anaconda3\\Lib\\site-packages\\dask_expr\\_collection.py:4764\u001b[0m, in \u001b[0;36mnew_collection\u001b[1;34m(expr)\u001b[0m\n\u001b[0;32m   4762\u001b[0m \u001b[38;5;28;01mdef\u001b[39;00m \u001b[38;5;21mnew_collection\u001b[39m(expr):\n\u001b[0;32m   4763\u001b[0m \u001b[38;5;250m    \u001b[39m\u001b[38;5;124;03m\"\"\"Create new collection from an expr\"\"\"\u001b[39;00m\n\u001b[1;32m-> 4764\u001b[0m     meta \u001b[38;5;241m=\u001b[39m \u001b[43mexpr\u001b[49m\u001b[38;5;241;43m.\u001b[39;49m\u001b[43m_meta\u001b[49m\n\u001b[0;32m   4765\u001b[0m     expr\u001b[38;5;241m.\u001b[39m_name  \u001b[38;5;66;03m# Ensure backend is imported\u001b[39;00m\n\u001b[0;32m   4766\u001b[0m     \u001b[38;5;28;01mreturn\u001b[39;00m get_collection_type(meta)(expr)\n",
            "File \u001b[1;32mc:\\ProgramData\\anaconda3\\Lib\\functools.py:995\u001b[0m, in \u001b[0;36mcached_property.__get__\u001b[1;34m(self, instance, owner)\u001b[0m\n\u001b[0;32m    993\u001b[0m val \u001b[38;5;241m=\u001b[39m cache\u001b[38;5;241m.\u001b[39mget(\u001b[38;5;28mself\u001b[39m\u001b[38;5;241m.\u001b[39mattrname, _NOT_FOUND)\n\u001b[0;32m    994\u001b[0m \u001b[38;5;28;01mif\u001b[39;00m val \u001b[38;5;129;01mis\u001b[39;00m _NOT_FOUND:\n\u001b[1;32m--> 995\u001b[0m     val \u001b[38;5;241m=\u001b[39m \u001b[38;5;28;43mself\u001b[39;49m\u001b[38;5;241;43m.\u001b[39;49m\u001b[43mfunc\u001b[49m\u001b[43m(\u001b[49m\u001b[43minstance\u001b[49m\u001b[43m)\u001b[49m\n\u001b[0;32m    996\u001b[0m     \u001b[38;5;28;01mtry\u001b[39;00m:\n\u001b[0;32m    997\u001b[0m         cache[\u001b[38;5;28mself\u001b[39m\u001b[38;5;241m.\u001b[39mattrname] \u001b[38;5;241m=\u001b[39m val\n",
            "File \u001b[1;32mc:\\ProgramData\\anaconda3\\Lib\\site-packages\\dask_expr\\io\\csv.py:85\u001b[0m, in \u001b[0;36mReadCSV._meta\u001b[1;34m(self)\u001b[0m\n\u001b[0;32m     83\u001b[0m \u001b[38;5;129m@functools\u001b[39m\u001b[38;5;241m.\u001b[39mcached_property\n\u001b[0;32m     84\u001b[0m \u001b[38;5;28;01mdef\u001b[39;00m \u001b[38;5;21m_meta\u001b[39m(\u001b[38;5;28mself\u001b[39m):\n\u001b[1;32m---> 85\u001b[0m     \u001b[38;5;28;01mreturn\u001b[39;00m \u001b[38;5;28;43mself\u001b[39;49m\u001b[38;5;241;43m.\u001b[39;49m\u001b[43m_ddf\u001b[49m\u001b[38;5;241m.\u001b[39m_meta\n",
            "File \u001b[1;32mc:\\ProgramData\\anaconda3\\Lib\\functools.py:995\u001b[0m, in \u001b[0;36mcached_property.__get__\u001b[1;34m(self, instance, owner)\u001b[0m\n\u001b[0;32m    993\u001b[0m val \u001b[38;5;241m=\u001b[39m cache\u001b[38;5;241m.\u001b[39mget(\u001b[38;5;28mself\u001b[39m\u001b[38;5;241m.\u001b[39mattrname, _NOT_FOUND)\n\u001b[0;32m    994\u001b[0m \u001b[38;5;28;01mif\u001b[39;00m val \u001b[38;5;129;01mis\u001b[39;00m _NOT_FOUND:\n\u001b[1;32m--> 995\u001b[0m     val \u001b[38;5;241m=\u001b[39m \u001b[38;5;28;43mself\u001b[39;49m\u001b[38;5;241;43m.\u001b[39;49m\u001b[43mfunc\u001b[49m\u001b[43m(\u001b[49m\u001b[43minstance\u001b[49m\u001b[43m)\u001b[49m\n\u001b[0;32m    996\u001b[0m     \u001b[38;5;28;01mtry\u001b[39;00m:\n\u001b[0;32m    997\u001b[0m         cache[\u001b[38;5;28mself\u001b[39m\u001b[38;5;241m.\u001b[39mattrname] \u001b[38;5;241m=\u001b[39m val\n",
            "File \u001b[1;32mc:\\ProgramData\\anaconda3\\Lib\\site-packages\\dask_expr\\io\\csv.py:75\u001b[0m, in \u001b[0;36mReadCSV._ddf\u001b[1;34m(self)\u001b[0m\n\u001b[0;32m     67\u001b[0m         meta \u001b[38;5;241m=\u001b[39m \u001b[38;5;28mself\u001b[39m\u001b[38;5;241m.\u001b[39moperation(\n\u001b[0;32m     68\u001b[0m             \u001b[38;5;28mself\u001b[39m\u001b[38;5;241m.\u001b[39mfilename,\n\u001b[0;32m     69\u001b[0m             header\u001b[38;5;241m=\u001b[39m\u001b[38;5;28mself\u001b[39m\u001b[38;5;241m.\u001b[39mheader,\n\u001b[0;32m     70\u001b[0m             storage_options\u001b[38;5;241m=\u001b[39m\u001b[38;5;28mself\u001b[39m\u001b[38;5;241m.\u001b[39mstorage_options,\n\u001b[0;32m     71\u001b[0m             \u001b[38;5;241m*\u001b[39m\u001b[38;5;241m*\u001b[39mkwargs,\n\u001b[0;32m     72\u001b[0m         )\u001b[38;5;241m.\u001b[39m_meta\n\u001b[0;32m     73\u001b[0m         columns \u001b[38;5;241m=\u001b[39m [\u001b[38;5;28mlist\u001b[39m(meta\u001b[38;5;241m.\u001b[39mcolumns)[\u001b[38;5;241m0\u001b[39m]]\n\u001b[1;32m---> 75\u001b[0m \u001b[38;5;28;01mreturn\u001b[39;00m \u001b[38;5;28;43mself\u001b[39;49m\u001b[38;5;241;43m.\u001b[39;49m\u001b[43moperation\u001b[49m\u001b[43m(\u001b[49m\n\u001b[0;32m     76\u001b[0m \u001b[43m    \u001b[49m\u001b[38;5;28;43mself\u001b[39;49m\u001b[38;5;241;43m.\u001b[39;49m\u001b[43mfilename\u001b[49m\u001b[43m,\u001b[49m\n\u001b[0;32m     77\u001b[0m \u001b[43m    \u001b[49m\u001b[43musecols\u001b[49m\u001b[38;5;241;43m=\u001b[39;49m\u001b[43mcolumns\u001b[49m\u001b[43m,\u001b[49m\n\u001b[0;32m     78\u001b[0m \u001b[43m    \u001b[49m\u001b[43mheader\u001b[49m\u001b[38;5;241;43m=\u001b[39;49m\u001b[38;5;28;43mself\u001b[39;49m\u001b[38;5;241;43m.\u001b[39;49m\u001b[43mheader\u001b[49m\u001b[43m,\u001b[49m\n\u001b[0;32m     79\u001b[0m \u001b[43m    \u001b[49m\u001b[43mstorage_options\u001b[49m\u001b[38;5;241;43m=\u001b[39;49m\u001b[38;5;28;43mself\u001b[39;49m\u001b[38;5;241;43m.\u001b[39;49m\u001b[43mstorage_options\u001b[49m\u001b[43m,\u001b[49m\n\u001b[0;32m     80\u001b[0m \u001b[43m    \u001b[49m\u001b[38;5;241;43m*\u001b[39;49m\u001b[38;5;241;43m*\u001b[39;49m\u001b[43mkwargs\u001b[49m\u001b[43m,\u001b[49m\n\u001b[0;32m     81\u001b[0m \u001b[43m\u001b[49m\u001b[43m)\u001b[49m\n",
            "File \u001b[1;32mc:\\ProgramData\\anaconda3\\Lib\\site-packages\\dask\\backends.py:142\u001b[0m, in \u001b[0;36mCreationDispatch.register_inplace.<locals>.decorator.<locals>.wrapper\u001b[1;34m(*args, **kwargs)\u001b[0m\n\u001b[0;32m    140\u001b[0m     \u001b[38;5;28;01mreturn\u001b[39;00m func(\u001b[38;5;241m*\u001b[39margs, \u001b[38;5;241m*\u001b[39m\u001b[38;5;241m*\u001b[39mkwargs)\n\u001b[0;32m    141\u001b[0m \u001b[38;5;28;01mexcept\u001b[39;00m \u001b[38;5;167;01mException\u001b[39;00m \u001b[38;5;28;01mas\u001b[39;00m e:\n\u001b[1;32m--> 142\u001b[0m     \u001b[38;5;28;01mraise\u001b[39;00m \u001b[38;5;28mtype\u001b[39m(e)(\n\u001b[0;32m    143\u001b[0m         \u001b[38;5;124mf\u001b[39m\u001b[38;5;124m\"\u001b[39m\u001b[38;5;124mAn error occurred while calling the \u001b[39m\u001b[38;5;132;01m{\u001b[39;00mfuncname(func)\u001b[38;5;132;01m}\u001b[39;00m\u001b[38;5;124m \u001b[39m\u001b[38;5;124m\"\u001b[39m\n\u001b[0;32m    144\u001b[0m         \u001b[38;5;124mf\u001b[39m\u001b[38;5;124m\"\u001b[39m\u001b[38;5;124mmethod registered to the \u001b[39m\u001b[38;5;132;01m{\u001b[39;00m\u001b[38;5;28mself\u001b[39m\u001b[38;5;241m.\u001b[39mbackend\u001b[38;5;132;01m}\u001b[39;00m\u001b[38;5;124m backend.\u001b[39m\u001b[38;5;130;01m\\n\u001b[39;00m\u001b[38;5;124m\"\u001b[39m\n\u001b[0;32m    145\u001b[0m         \u001b[38;5;124mf\u001b[39m\u001b[38;5;124m\"\u001b[39m\u001b[38;5;124mOriginal Message: \u001b[39m\u001b[38;5;132;01m{\u001b[39;00me\u001b[38;5;132;01m}\u001b[39;00m\u001b[38;5;124m\"\u001b[39m\n\u001b[0;32m    146\u001b[0m     ) \u001b[38;5;28;01mfrom\u001b[39;00m \u001b[38;5;21;01me\u001b[39;00m\n",
            "\u001b[1;31mFileNotFoundError\u001b[0m: An error occurred while calling the read_csv method registered to the pandas backend.\nOriginal Message: [WinError 2] The system cannot find the file specified: 'c:/Users/Honor/OneDrive - Universiti Teknologi Malaysia (UTM)/Desktop/final/final/path_to_your_data.csv'"
          ]
        }
      ],
      "source": [
        "# %%time (if you're using Jupyter notebook to check execution time)\n",
        "\n",
        "# Read data from CSV file into Dask DataFrame (similar to Pandas)\n",
        "df_dask = dd.read_csv('path_to_your_data.csv')\n",
        "\n",
        "# Drop a column (just like in the MongoDB example)\n",
        "# Replace 'column_name' with the actual column you want to drop (e.g., '_id')\n",
        "df_dask = df_dask.drop(columns=['column_name'])\n",
        "\n",
        "# Output preview (since Dask is lazy, we need to compute or take a sample)\n",
        "print(\"✅ Data loaded into Dask DataFrame\")\n",
        "print(df_dask.head())  # Show the first few rows"
      ]
    },
    {
      "cell_type": "markdown",
      "metadata": {
        "id": "F6Xrs6VpjppP"
      },
      "source": [
        "### Combine Columns"
      ]
    },
    {
      "cell_type": "markdown",
      "metadata": {
        "id": "3XQpWMFpkw5J"
      },
      "source": [
        "To standardize the data, we combined the 'Seat Capacity' and 'Seating Capacity' columns into one, prioritizing the non-null values from each."
      ]
    },
    {
      "cell_type": "markdown",
      "metadata": {
        "id": "Im6VBqJAkkN3"
      },
      "source": [
        "**1. Pandas**"
      ]
    },
    {
      "cell_type": "code",
      "execution_count": 71,
      "metadata": {
        "colab": {
          "base_uri": "https://localhost:8080/"
        },
        "id": "hvrpCuf5klLP",
        "outputId": "ff6e7b5d-db99-44e5-c174-9d57e3294e80"
      },
      "outputs": [
        {
          "name": "stdout",
          "output_type": "stream",
          "text": [
            "CPU times: total: 62.5 ms\n",
            "Wall time: 51.7 ms\n"
          ]
        }
      ],
      "source": [
        "%%time\n",
        "\n",
        "# Combine 'Seat Capacity' and 'Seating Capacity' into one column\n",
        "df_pandas['Seat Capacity'] = df_pandas['Seat Capacity'].combine_first(df_pandas['Seating Capacity'])\n",
        "\n",
        "# Drop 'Seating Capacity' column\n",
        "df_pandas.drop(columns=['Seating Capacity'], inplace=True)\n"
      ]
    },
    {
      "cell_type": "code",
      "execution_count": 72,
      "metadata": {
        "colab": {
          "base_uri": "https://localhost:8080/"
        },
        "id": "XnMy7wmpl0El",
        "outputId": "d4b83407-594c-440c-f502-d7eab6809a91"
      },
      "outputs": [
        {
          "data": {
            "text/html": [
              "<div>\n",
              "<style scoped>\n",
              "    .dataframe tbody tr th:only-of-type {\n",
              "        vertical-align: middle;\n",
              "    }\n",
              "\n",
              "    .dataframe tbody tr th {\n",
              "        vertical-align: top;\n",
              "    }\n",
              "\n",
              "    .dataframe thead th {\n",
              "        text-align: right;\n",
              "    }\n",
              "</style>\n",
              "<table border=\"1\" class=\"dataframe\">\n",
              "  <thead>\n",
              "    <tr style=\"text-align: right;\">\n",
              "      <th></th>\n",
              "      <th>Car Name</th>\n",
              "      <th>Car Brand</th>\n",
              "      <th>Car Model</th>\n",
              "      <th>Manufacture Year</th>\n",
              "      <th>Body Type</th>\n",
              "      <th>Fuel Type</th>\n",
              "      <th>Mileage</th>\n",
              "      <th>Transmission</th>\n",
              "      <th>Color</th>\n",
              "      <th>Price</th>\n",
              "      <th>Installment</th>\n",
              "      <th>Condition</th>\n",
              "      <th>Location</th>\n",
              "      <th>Sales Channel</th>\n",
              "      <th>Seat Capacity</th>\n",
              "      <th>URL</th>\n",
              "    </tr>\n",
              "  </thead>\n",
              "  <tbody>\n",
              "    <tr>\n",
              "      <th>0</th>\n",
              "      <td>2023 Lexus RX350 2.4 F Sport SUV</td>\n",
              "      <td>Lexus</td>\n",
              "      <td>RX350</td>\n",
              "      <td>2023</td>\n",
              "      <td>SUV</td>\n",
              "      <td>Petrol - Unleaded (ULP)</td>\n",
              "      <td>5 - 10K KM</td>\n",
              "      <td>Automatic</td>\n",
              "      <td>Black</td>\n",
              "      <td>375000</td>\n",
              "      <td>RM 4,862/month</td>\n",
              "      <td>http://schema.org/RefurbishedCondition</td>\n",
              "      <td>Selangor, Klang</td>\n",
              "      <td>Sales Agent                                   ...</td>\n",
              "      <td>5</td>\n",
              "      <td>NaN</td>\n",
              "    </tr>\n",
              "    <tr>\n",
              "      <th>1</th>\n",
              "      <td>2010 Toyota Estima 2.4 Aeras MPV Hot Mpv Car I...</td>\n",
              "      <td>Toyota</td>\n",
              "      <td>Estima</td>\n",
              "      <td>2010</td>\n",
              "      <td>MPV</td>\n",
              "      <td>Petrol - Unleaded (ULP)</td>\n",
              "      <td>115 - 120K KM</td>\n",
              "      <td>Automatic</td>\n",
              "      <td>White</td>\n",
              "      <td>55999</td>\n",
              "      <td>RM 726/month</td>\n",
              "      <td>http://schema.org/UsedCondition</td>\n",
              "      <td>Selangor, Kajang</td>\n",
              "      <td>Sales Agent                                   ...</td>\n",
              "      <td>7</td>\n",
              "      <td>NaN</td>\n",
              "    </tr>\n",
              "    <tr>\n",
              "      <th>2</th>\n",
              "      <td>2020 Porsche Cayenne Coupe 4.0 V8 Turbo AWD Un...</td>\n",
              "      <td>Porsche</td>\n",
              "      <td>Cayenne</td>\n",
              "      <td>2020</td>\n",
              "      <td>Coupe</td>\n",
              "      <td>Petrol - Unleaded (ULP)</td>\n",
              "      <td>20 - 25K KM</td>\n",
              "      <td>Automatic</td>\n",
              "      <td>Grey</td>\n",
              "      <td>662222</td>\n",
              "      <td>RM 8,585/month</td>\n",
              "      <td>http://schema.org/RefurbishedCondition</td>\n",
              "      <td>Selangor, Klang</td>\n",
              "      <td>Sales Agent                                   ...</td>\n",
              "      <td>4</td>\n",
              "      <td>NaN</td>\n",
              "    </tr>\n",
              "    <tr>\n",
              "      <th>3</th>\n",
              "      <td>2021 Honda City 1.5 V i-VTEC Hatchback</td>\n",
              "      <td>Honda</td>\n",
              "      <td>City</td>\n",
              "      <td>2021</td>\n",
              "      <td>Hatchback</td>\n",
              "      <td>Petrol - Unleaded (ULP)</td>\n",
              "      <td>90 - 95K KM</td>\n",
              "      <td>Automatic</td>\n",
              "      <td>Silver</td>\n",
              "      <td>67000</td>\n",
              "      <td>RM 869/month</td>\n",
              "      <td>http://schema.org/UsedCondition</td>\n",
              "      <td>Johor, Ulu Tiram</td>\n",
              "      <td>Sales Agent                                   ...</td>\n",
              "      <td>5</td>\n",
              "      <td>NaN</td>\n",
              "    </tr>\n",
              "    <tr>\n",
              "      <th>4</th>\n",
              "      <td>2022 Toyota Corolla Cross 1.8 V SUV Full Servi...</td>\n",
              "      <td>Toyota</td>\n",
              "      <td>Corolla Cross</td>\n",
              "      <td>2022</td>\n",
              "      <td>SUV</td>\n",
              "      <td>Petrol - Unleaded (ULP)</td>\n",
              "      <td>80 - 85K KM</td>\n",
              "      <td>Automatic</td>\n",
              "      <td>White</td>\n",
              "      <td>98999</td>\n",
              "      <td>RM 1,283/month</td>\n",
              "      <td>http://schema.org/UsedCondition</td>\n",
              "      <td>Selangor, Kajang</td>\n",
              "      <td>Sales Agent                                   ...</td>\n",
              "      <td>5</td>\n",
              "      <td>NaN</td>\n",
              "    </tr>\n",
              "  </tbody>\n",
              "</table>\n",
              "</div>"
            ],
            "text/plain": [
              "                                            Car Name Car Brand      Car Model  \\\n",
              "0                   2023 Lexus RX350 2.4 F Sport SUV     Lexus          RX350   \n",
              "1  2010 Toyota Estima 2.4 Aeras MPV Hot Mpv Car I...    Toyota         Estima   \n",
              "2  2020 Porsche Cayenne Coupe 4.0 V8 Turbo AWD Un...   Porsche        Cayenne   \n",
              "3             2021 Honda City 1.5 V i-VTEC Hatchback     Honda           City   \n",
              "4  2022 Toyota Corolla Cross 1.8 V SUV Full Servi...    Toyota  Corolla Cross   \n",
              "\n",
              "   Manufacture Year  Body Type                Fuel Type            Mileage  \\\n",
              "0              2023        SUV  Petrol - Unleaded (ULP)     5 - 10K KM       \n",
              "1              2010        MPV  Petrol - Unleaded (ULP)  115 - 120K KM       \n",
              "2              2020      Coupe  Petrol - Unleaded (ULP)    20 - 25K KM       \n",
              "3              2021  Hatchback  Petrol - Unleaded (ULP)    90 - 95K KM       \n",
              "4              2022        SUV  Petrol - Unleaded (ULP)    80 - 85K KM       \n",
              "\n",
              "  Transmission   Color   Price     Installment  \\\n",
              "0    Automatic   Black  375000  RM 4,862/month   \n",
              "1    Automatic   White   55999    RM 726/month   \n",
              "2    Automatic    Grey  662222  RM 8,585/month   \n",
              "3    Automatic  Silver   67000    RM 869/month   \n",
              "4    Automatic   White   98999  RM 1,283/month   \n",
              "\n",
              "                                Condition           Location  \\\n",
              "0  http://schema.org/RefurbishedCondition   Selangor, Klang    \n",
              "1         http://schema.org/UsedCondition  Selangor, Kajang    \n",
              "2  http://schema.org/RefurbishedCondition   Selangor, Klang    \n",
              "3         http://schema.org/UsedCondition  Johor, Ulu Tiram    \n",
              "4         http://schema.org/UsedCondition  Selangor, Kajang    \n",
              "\n",
              "                                       Sales Channel Seat Capacity  URL  \n",
              "0  Sales Agent                                   ...             5  NaN  \n",
              "1  Sales Agent                                   ...             7  NaN  \n",
              "2  Sales Agent                                   ...             4  NaN  \n",
              "3  Sales Agent                                   ...             5  NaN  \n",
              "4  Sales Agent                                   ...             5  NaN  "
            ]
          },
          "execution_count": 72,
          "metadata": {},
          "output_type": "execute_result"
        }
      ],
      "source": [
        "# Display dataframe\n",
        "df_pandas.head()"
      ]
    },
    {
      "cell_type": "markdown",
      "metadata": {},
      "source": [
        "**3. Modin**"
      ]
    },
    {
      "cell_type": "code",
      "execution_count": 8,
      "metadata": {},
      "outputs": [
        {
          "name": "stdout",
          "output_type": "stream",
          "text": [
            "CPU times: total: 125 ms\n",
            "Wall time: 170 ms\n"
          ]
        }
      ],
      "source": [
        "%%time\n",
        "\n",
        "df_modin['Seat Capacity'] = df_modin['Seat Capacity'].fillna(df_modin['Seating Capacity'])\n",
        "df_modin.drop(columns=['Seating Capacity'], inplace=True)"
      ]
    },
    {
      "cell_type": "code",
      "execution_count": 9,
      "metadata": {},
      "outputs": [
        {
          "data": {
            "text/html": [
              "<div>\n",
              "<style scoped>\n",
              "    .dataframe tbody tr th:only-of-type {\n",
              "        vertical-align: middle;\n",
              "    }\n",
              "\n",
              "    .dataframe tbody tr th {\n",
              "        vertical-align: top;\n",
              "    }\n",
              "\n",
              "    .dataframe thead th {\n",
              "        text-align: right;\n",
              "    }\n",
              "</style>\n",
              "<table border=\"1\" class=\"dataframe\">\n",
              "  <thead>\n",
              "    <tr style=\"text-align: right;\">\n",
              "      <th></th>\n",
              "      <th>Car Name</th>\n",
              "      <th>Car Brand</th>\n",
              "      <th>Car Model</th>\n",
              "      <th>Manufacture Year</th>\n",
              "      <th>Body Type</th>\n",
              "      <th>Fuel Type</th>\n",
              "      <th>Mileage</th>\n",
              "      <th>Transmission</th>\n",
              "      <th>Color</th>\n",
              "      <th>Price</th>\n",
              "      <th>Installment</th>\n",
              "      <th>Condition</th>\n",
              "      <th>Location</th>\n",
              "      <th>Sales Channel</th>\n",
              "      <th>Seat Capacity</th>\n",
              "      <th>URL</th>\n",
              "    </tr>\n",
              "  </thead>\n",
              "  <tbody>\n",
              "    <tr>\n",
              "      <th>0</th>\n",
              "      <td>2023 Lexus RX350 2.4 F Sport SUV</td>\n",
              "      <td>Lexus</td>\n",
              "      <td>RX350</td>\n",
              "      <td>2023</td>\n",
              "      <td>SUV</td>\n",
              "      <td>Petrol - Unleaded (ULP)</td>\n",
              "      <td>5 - 10K KM</td>\n",
              "      <td>Automatic</td>\n",
              "      <td>Black</td>\n",
              "      <td>375000</td>\n",
              "      <td>RM 4,862/month</td>\n",
              "      <td>http://schema.org/RefurbishedCondition</td>\n",
              "      <td>Selangor, Klang</td>\n",
              "      <td>Sales Agent                                   ...</td>\n",
              "      <td>5</td>\n",
              "      <td>NaN</td>\n",
              "    </tr>\n",
              "    <tr>\n",
              "      <th>1</th>\n",
              "      <td>2010 Toyota Estima 2.4 Aeras MPV Hot Mpv Car I...</td>\n",
              "      <td>Toyota</td>\n",
              "      <td>Estima</td>\n",
              "      <td>2010</td>\n",
              "      <td>MPV</td>\n",
              "      <td>Petrol - Unleaded (ULP)</td>\n",
              "      <td>115 - 120K KM</td>\n",
              "      <td>Automatic</td>\n",
              "      <td>White</td>\n",
              "      <td>55999</td>\n",
              "      <td>RM 726/month</td>\n",
              "      <td>http://schema.org/UsedCondition</td>\n",
              "      <td>Selangor, Kajang</td>\n",
              "      <td>Sales Agent                                   ...</td>\n",
              "      <td>7</td>\n",
              "      <td>NaN</td>\n",
              "    </tr>\n",
              "    <tr>\n",
              "      <th>2</th>\n",
              "      <td>2020 Porsche Cayenne Coupe 4.0 V8 Turbo AWD Un...</td>\n",
              "      <td>Porsche</td>\n",
              "      <td>Cayenne</td>\n",
              "      <td>2020</td>\n",
              "      <td>Coupe</td>\n",
              "      <td>Petrol - Unleaded (ULP)</td>\n",
              "      <td>20 - 25K KM</td>\n",
              "      <td>Automatic</td>\n",
              "      <td>Grey</td>\n",
              "      <td>662222</td>\n",
              "      <td>RM 8,585/month</td>\n",
              "      <td>http://schema.org/RefurbishedCondition</td>\n",
              "      <td>Selangor, Klang</td>\n",
              "      <td>Sales Agent                                   ...</td>\n",
              "      <td>4</td>\n",
              "      <td>NaN</td>\n",
              "    </tr>\n",
              "    <tr>\n",
              "      <th>3</th>\n",
              "      <td>2021 Honda City 1.5 V i-VTEC Hatchback</td>\n",
              "      <td>Honda</td>\n",
              "      <td>City</td>\n",
              "      <td>2021</td>\n",
              "      <td>Hatchback</td>\n",
              "      <td>Petrol - Unleaded (ULP)</td>\n",
              "      <td>90 - 95K KM</td>\n",
              "      <td>Automatic</td>\n",
              "      <td>Silver</td>\n",
              "      <td>67000</td>\n",
              "      <td>RM 869/month</td>\n",
              "      <td>http://schema.org/UsedCondition</td>\n",
              "      <td>Johor, Ulu Tiram</td>\n",
              "      <td>Sales Agent                                   ...</td>\n",
              "      <td>5</td>\n",
              "      <td>NaN</td>\n",
              "    </tr>\n",
              "    <tr>\n",
              "      <th>4</th>\n",
              "      <td>2022 Toyota Corolla Cross 1.8 V SUV Full Servi...</td>\n",
              "      <td>Toyota</td>\n",
              "      <td>Corolla Cross</td>\n",
              "      <td>2022</td>\n",
              "      <td>SUV</td>\n",
              "      <td>Petrol - Unleaded (ULP)</td>\n",
              "      <td>80 - 85K KM</td>\n",
              "      <td>Automatic</td>\n",
              "      <td>White</td>\n",
              "      <td>98999</td>\n",
              "      <td>RM 1,283/month</td>\n",
              "      <td>http://schema.org/UsedCondition</td>\n",
              "      <td>Selangor, Kajang</td>\n",
              "      <td>Sales Agent                                   ...</td>\n",
              "      <td>5</td>\n",
              "      <td>NaN</td>\n",
              "    </tr>\n",
              "  </tbody>\n",
              "</table>\n",
              "</div>"
            ],
            "text/plain": [
              "                                            Car Name Car Brand      Car Model  \\\n",
              "0                   2023 Lexus RX350 2.4 F Sport SUV     Lexus          RX350   \n",
              "1  2010 Toyota Estima 2.4 Aeras MPV Hot Mpv Car I...    Toyota         Estima   \n",
              "2  2020 Porsche Cayenne Coupe 4.0 V8 Turbo AWD Un...   Porsche        Cayenne   \n",
              "3             2021 Honda City 1.5 V i-VTEC Hatchback     Honda           City   \n",
              "4  2022 Toyota Corolla Cross 1.8 V SUV Full Servi...    Toyota  Corolla Cross   \n",
              "\n",
              "   Manufacture Year  Body Type                Fuel Type            Mileage  \\\n",
              "0              2023        SUV  Petrol - Unleaded (ULP)     5 - 10K KM       \n",
              "1              2010        MPV  Petrol - Unleaded (ULP)  115 - 120K KM       \n",
              "2              2020      Coupe  Petrol - Unleaded (ULP)    20 - 25K KM       \n",
              "3              2021  Hatchback  Petrol - Unleaded (ULP)    90 - 95K KM       \n",
              "4              2022        SUV  Petrol - Unleaded (ULP)    80 - 85K KM       \n",
              "\n",
              "  Transmission   Color   Price     Installment  \\\n",
              "0    Automatic   Black  375000  RM 4,862/month   \n",
              "1    Automatic   White   55999    RM 726/month   \n",
              "2    Automatic    Grey  662222  RM 8,585/month   \n",
              "3    Automatic  Silver   67000    RM 869/month   \n",
              "4    Automatic   White   98999  RM 1,283/month   \n",
              "\n",
              "                                Condition           Location  \\\n",
              "0  http://schema.org/RefurbishedCondition   Selangor, Klang    \n",
              "1         http://schema.org/UsedCondition  Selangor, Kajang    \n",
              "2  http://schema.org/RefurbishedCondition   Selangor, Klang    \n",
              "3         http://schema.org/UsedCondition  Johor, Ulu Tiram    \n",
              "4         http://schema.org/UsedCondition  Selangor, Kajang    \n",
              "\n",
              "                                       Sales Channel Seat Capacity  URL  \n",
              "0  Sales Agent                                   ...             5  NaN  \n",
              "1  Sales Agent                                   ...             7  NaN  \n",
              "2  Sales Agent                                   ...             4  NaN  \n",
              "3  Sales Agent                                   ...             5  NaN  \n",
              "4  Sales Agent                                   ...             5  NaN  "
            ]
          },
          "execution_count": 9,
          "metadata": {},
          "output_type": "execute_result"
        }
      ],
      "source": [
        "df_modin.head()"
      ]
    },
    {
      "cell_type": "markdown",
      "metadata": {
        "id": "pJ3aVtlmk3b3"
      },
      "source": [
        "### Remove Unwanted Column(s)"
      ]
    },
    {
      "cell_type": "markdown",
      "metadata": {
        "id": "syWvDvzak-tJ"
      },
      "source": [
        "To clean the dataset, we removed the unwanted 'URL' column, which was irrelevant to the analysis."
      ]
    },
    {
      "cell_type": "markdown",
      "metadata": {
        "id": "3odcELPplCID"
      },
      "source": [
        "**1. Pandas**"
      ]
    },
    {
      "cell_type": "code",
      "execution_count": 73,
      "metadata": {
        "colab": {
          "base_uri": "https://localhost:8080/"
        },
        "id": "Y48B5Ms6lCur",
        "outputId": "ea3d685f-7916-41d1-e064-ae0b087ae0a1"
      },
      "outputs": [
        {
          "name": "stdout",
          "output_type": "stream",
          "text": [
            "CPU times: total: 46.9 ms\n",
            "Wall time: 41.7 ms\n"
          ]
        }
      ],
      "source": [
        "%%time\n",
        "\n",
        "# Remove the 'URL' column\n",
        "df_pandas.drop(columns=['URL'], inplace=True)"
      ]
    },
    {
      "cell_type": "code",
      "execution_count": 74,
      "metadata": {
        "colab": {
          "base_uri": "https://localhost:8080/"
        },
        "id": "-MF_EH-Alv_b",
        "outputId": "34e31d09-8b93-46a9-9e94-672b70e6f39f"
      },
      "outputs": [
        {
          "data": {
            "text/html": [
              "<div>\n",
              "<style scoped>\n",
              "    .dataframe tbody tr th:only-of-type {\n",
              "        vertical-align: middle;\n",
              "    }\n",
              "\n",
              "    .dataframe tbody tr th {\n",
              "        vertical-align: top;\n",
              "    }\n",
              "\n",
              "    .dataframe thead th {\n",
              "        text-align: right;\n",
              "    }\n",
              "</style>\n",
              "<table border=\"1\" class=\"dataframe\">\n",
              "  <thead>\n",
              "    <tr style=\"text-align: right;\">\n",
              "      <th></th>\n",
              "      <th>Car Name</th>\n",
              "      <th>Car Brand</th>\n",
              "      <th>Car Model</th>\n",
              "      <th>Manufacture Year</th>\n",
              "      <th>Body Type</th>\n",
              "      <th>Fuel Type</th>\n",
              "      <th>Mileage</th>\n",
              "      <th>Transmission</th>\n",
              "      <th>Color</th>\n",
              "      <th>Price</th>\n",
              "      <th>Installment</th>\n",
              "      <th>Condition</th>\n",
              "      <th>Location</th>\n",
              "      <th>Sales Channel</th>\n",
              "      <th>Seat Capacity</th>\n",
              "    </tr>\n",
              "  </thead>\n",
              "  <tbody>\n",
              "    <tr>\n",
              "      <th>0</th>\n",
              "      <td>2023 Lexus RX350 2.4 F Sport SUV</td>\n",
              "      <td>Lexus</td>\n",
              "      <td>RX350</td>\n",
              "      <td>2023</td>\n",
              "      <td>SUV</td>\n",
              "      <td>Petrol - Unleaded (ULP)</td>\n",
              "      <td>5 - 10K KM</td>\n",
              "      <td>Automatic</td>\n",
              "      <td>Black</td>\n",
              "      <td>375000</td>\n",
              "      <td>RM 4,862/month</td>\n",
              "      <td>http://schema.org/RefurbishedCondition</td>\n",
              "      <td>Selangor, Klang</td>\n",
              "      <td>Sales Agent                                   ...</td>\n",
              "      <td>5</td>\n",
              "    </tr>\n",
              "    <tr>\n",
              "      <th>1</th>\n",
              "      <td>2010 Toyota Estima 2.4 Aeras MPV Hot Mpv Car I...</td>\n",
              "      <td>Toyota</td>\n",
              "      <td>Estima</td>\n",
              "      <td>2010</td>\n",
              "      <td>MPV</td>\n",
              "      <td>Petrol - Unleaded (ULP)</td>\n",
              "      <td>115 - 120K KM</td>\n",
              "      <td>Automatic</td>\n",
              "      <td>White</td>\n",
              "      <td>55999</td>\n",
              "      <td>RM 726/month</td>\n",
              "      <td>http://schema.org/UsedCondition</td>\n",
              "      <td>Selangor, Kajang</td>\n",
              "      <td>Sales Agent                                   ...</td>\n",
              "      <td>7</td>\n",
              "    </tr>\n",
              "    <tr>\n",
              "      <th>2</th>\n",
              "      <td>2020 Porsche Cayenne Coupe 4.0 V8 Turbo AWD Un...</td>\n",
              "      <td>Porsche</td>\n",
              "      <td>Cayenne</td>\n",
              "      <td>2020</td>\n",
              "      <td>Coupe</td>\n",
              "      <td>Petrol - Unleaded (ULP)</td>\n",
              "      <td>20 - 25K KM</td>\n",
              "      <td>Automatic</td>\n",
              "      <td>Grey</td>\n",
              "      <td>662222</td>\n",
              "      <td>RM 8,585/month</td>\n",
              "      <td>http://schema.org/RefurbishedCondition</td>\n",
              "      <td>Selangor, Klang</td>\n",
              "      <td>Sales Agent                                   ...</td>\n",
              "      <td>4</td>\n",
              "    </tr>\n",
              "    <tr>\n",
              "      <th>3</th>\n",
              "      <td>2021 Honda City 1.5 V i-VTEC Hatchback</td>\n",
              "      <td>Honda</td>\n",
              "      <td>City</td>\n",
              "      <td>2021</td>\n",
              "      <td>Hatchback</td>\n",
              "      <td>Petrol - Unleaded (ULP)</td>\n",
              "      <td>90 - 95K KM</td>\n",
              "      <td>Automatic</td>\n",
              "      <td>Silver</td>\n",
              "      <td>67000</td>\n",
              "      <td>RM 869/month</td>\n",
              "      <td>http://schema.org/UsedCondition</td>\n",
              "      <td>Johor, Ulu Tiram</td>\n",
              "      <td>Sales Agent                                   ...</td>\n",
              "      <td>5</td>\n",
              "    </tr>\n",
              "    <tr>\n",
              "      <th>4</th>\n",
              "      <td>2022 Toyota Corolla Cross 1.8 V SUV Full Servi...</td>\n",
              "      <td>Toyota</td>\n",
              "      <td>Corolla Cross</td>\n",
              "      <td>2022</td>\n",
              "      <td>SUV</td>\n",
              "      <td>Petrol - Unleaded (ULP)</td>\n",
              "      <td>80 - 85K KM</td>\n",
              "      <td>Automatic</td>\n",
              "      <td>White</td>\n",
              "      <td>98999</td>\n",
              "      <td>RM 1,283/month</td>\n",
              "      <td>http://schema.org/UsedCondition</td>\n",
              "      <td>Selangor, Kajang</td>\n",
              "      <td>Sales Agent                                   ...</td>\n",
              "      <td>5</td>\n",
              "    </tr>\n",
              "  </tbody>\n",
              "</table>\n",
              "</div>"
            ],
            "text/plain": [
              "                                            Car Name Car Brand      Car Model  \\\n",
              "0                   2023 Lexus RX350 2.4 F Sport SUV     Lexus          RX350   \n",
              "1  2010 Toyota Estima 2.4 Aeras MPV Hot Mpv Car I...    Toyota         Estima   \n",
              "2  2020 Porsche Cayenne Coupe 4.0 V8 Turbo AWD Un...   Porsche        Cayenne   \n",
              "3             2021 Honda City 1.5 V i-VTEC Hatchback     Honda           City   \n",
              "4  2022 Toyota Corolla Cross 1.8 V SUV Full Servi...    Toyota  Corolla Cross   \n",
              "\n",
              "   Manufacture Year  Body Type                Fuel Type            Mileage  \\\n",
              "0              2023        SUV  Petrol - Unleaded (ULP)     5 - 10K KM       \n",
              "1              2010        MPV  Petrol - Unleaded (ULP)  115 - 120K KM       \n",
              "2              2020      Coupe  Petrol - Unleaded (ULP)    20 - 25K KM       \n",
              "3              2021  Hatchback  Petrol - Unleaded (ULP)    90 - 95K KM       \n",
              "4              2022        SUV  Petrol - Unleaded (ULP)    80 - 85K KM       \n",
              "\n",
              "  Transmission   Color   Price     Installment  \\\n",
              "0    Automatic   Black  375000  RM 4,862/month   \n",
              "1    Automatic   White   55999    RM 726/month   \n",
              "2    Automatic    Grey  662222  RM 8,585/month   \n",
              "3    Automatic  Silver   67000    RM 869/month   \n",
              "4    Automatic   White   98999  RM 1,283/month   \n",
              "\n",
              "                                Condition           Location  \\\n",
              "0  http://schema.org/RefurbishedCondition   Selangor, Klang    \n",
              "1         http://schema.org/UsedCondition  Selangor, Kajang    \n",
              "2  http://schema.org/RefurbishedCondition   Selangor, Klang    \n",
              "3         http://schema.org/UsedCondition  Johor, Ulu Tiram    \n",
              "4         http://schema.org/UsedCondition  Selangor, Kajang    \n",
              "\n",
              "                                       Sales Channel Seat Capacity  \n",
              "0  Sales Agent                                   ...             5  \n",
              "1  Sales Agent                                   ...             7  \n",
              "2  Sales Agent                                   ...             4  \n",
              "3  Sales Agent                                   ...             5  \n",
              "4  Sales Agent                                   ...             5  "
            ]
          },
          "execution_count": 74,
          "metadata": {},
          "output_type": "execute_result"
        }
      ],
      "source": [
        "# Display dataframe\n",
        "df_pandas.head()"
      ]
    },
    {
      "cell_type": "markdown",
      "metadata": {},
      "source": [
        "**3. Modin**"
      ]
    },
    {
      "cell_type": "code",
      "execution_count": 11,
      "metadata": {},
      "outputs": [
        {
          "name": "stdout",
          "output_type": "stream",
          "text": [
            "CPU times: total: 0 ns\n",
            "Wall time: 2.99 ms\n"
          ]
        }
      ],
      "source": [
        "%%time\n",
        "\n",
        "# Remove the 'URL' column\n",
        "df_modin.drop(columns=['URL'], inplace=True)"
      ]
    },
    {
      "cell_type": "code",
      "execution_count": 12,
      "metadata": {},
      "outputs": [
        {
          "data": {
            "text/html": [
              "<div>\n",
              "<style scoped>\n",
              "    .dataframe tbody tr th:only-of-type {\n",
              "        vertical-align: middle;\n",
              "    }\n",
              "\n",
              "    .dataframe tbody tr th {\n",
              "        vertical-align: top;\n",
              "    }\n",
              "\n",
              "    .dataframe thead th {\n",
              "        text-align: right;\n",
              "    }\n",
              "</style>\n",
              "<table border=\"1\" class=\"dataframe\">\n",
              "  <thead>\n",
              "    <tr style=\"text-align: right;\">\n",
              "      <th></th>\n",
              "      <th>Car Name</th>\n",
              "      <th>Car Brand</th>\n",
              "      <th>Car Model</th>\n",
              "      <th>Manufacture Year</th>\n",
              "      <th>Body Type</th>\n",
              "      <th>Fuel Type</th>\n",
              "      <th>Mileage</th>\n",
              "      <th>Transmission</th>\n",
              "      <th>Color</th>\n",
              "      <th>Price</th>\n",
              "      <th>Installment</th>\n",
              "      <th>Condition</th>\n",
              "      <th>Location</th>\n",
              "      <th>Sales Channel</th>\n",
              "      <th>Seat Capacity</th>\n",
              "    </tr>\n",
              "  </thead>\n",
              "  <tbody>\n",
              "    <tr>\n",
              "      <th>0</th>\n",
              "      <td>2023 Lexus RX350 2.4 F Sport SUV</td>\n",
              "      <td>Lexus</td>\n",
              "      <td>RX350</td>\n",
              "      <td>2023</td>\n",
              "      <td>SUV</td>\n",
              "      <td>Petrol - Unleaded (ULP)</td>\n",
              "      <td>5 - 10K KM</td>\n",
              "      <td>Automatic</td>\n",
              "      <td>Black</td>\n",
              "      <td>375000</td>\n",
              "      <td>RM 4,862/month</td>\n",
              "      <td>http://schema.org/RefurbishedCondition</td>\n",
              "      <td>Selangor, Klang</td>\n",
              "      <td>Sales Agent                                   ...</td>\n",
              "      <td>5</td>\n",
              "    </tr>\n",
              "    <tr>\n",
              "      <th>1</th>\n",
              "      <td>2010 Toyota Estima 2.4 Aeras MPV Hot Mpv Car I...</td>\n",
              "      <td>Toyota</td>\n",
              "      <td>Estima</td>\n",
              "      <td>2010</td>\n",
              "      <td>MPV</td>\n",
              "      <td>Petrol - Unleaded (ULP)</td>\n",
              "      <td>115 - 120K KM</td>\n",
              "      <td>Automatic</td>\n",
              "      <td>White</td>\n",
              "      <td>55999</td>\n",
              "      <td>RM 726/month</td>\n",
              "      <td>http://schema.org/UsedCondition</td>\n",
              "      <td>Selangor, Kajang</td>\n",
              "      <td>Sales Agent                                   ...</td>\n",
              "      <td>7</td>\n",
              "    </tr>\n",
              "    <tr>\n",
              "      <th>2</th>\n",
              "      <td>2020 Porsche Cayenne Coupe 4.0 V8 Turbo AWD Un...</td>\n",
              "      <td>Porsche</td>\n",
              "      <td>Cayenne</td>\n",
              "      <td>2020</td>\n",
              "      <td>Coupe</td>\n",
              "      <td>Petrol - Unleaded (ULP)</td>\n",
              "      <td>20 - 25K KM</td>\n",
              "      <td>Automatic</td>\n",
              "      <td>Grey</td>\n",
              "      <td>662222</td>\n",
              "      <td>RM 8,585/month</td>\n",
              "      <td>http://schema.org/RefurbishedCondition</td>\n",
              "      <td>Selangor, Klang</td>\n",
              "      <td>Sales Agent                                   ...</td>\n",
              "      <td>4</td>\n",
              "    </tr>\n",
              "    <tr>\n",
              "      <th>3</th>\n",
              "      <td>2021 Honda City 1.5 V i-VTEC Hatchback</td>\n",
              "      <td>Honda</td>\n",
              "      <td>City</td>\n",
              "      <td>2021</td>\n",
              "      <td>Hatchback</td>\n",
              "      <td>Petrol - Unleaded (ULP)</td>\n",
              "      <td>90 - 95K KM</td>\n",
              "      <td>Automatic</td>\n",
              "      <td>Silver</td>\n",
              "      <td>67000</td>\n",
              "      <td>RM 869/month</td>\n",
              "      <td>http://schema.org/UsedCondition</td>\n",
              "      <td>Johor, Ulu Tiram</td>\n",
              "      <td>Sales Agent                                   ...</td>\n",
              "      <td>5</td>\n",
              "    </tr>\n",
              "    <tr>\n",
              "      <th>4</th>\n",
              "      <td>2022 Toyota Corolla Cross 1.8 V SUV Full Servi...</td>\n",
              "      <td>Toyota</td>\n",
              "      <td>Corolla Cross</td>\n",
              "      <td>2022</td>\n",
              "      <td>SUV</td>\n",
              "      <td>Petrol - Unleaded (ULP)</td>\n",
              "      <td>80 - 85K KM</td>\n",
              "      <td>Automatic</td>\n",
              "      <td>White</td>\n",
              "      <td>98999</td>\n",
              "      <td>RM 1,283/month</td>\n",
              "      <td>http://schema.org/UsedCondition</td>\n",
              "      <td>Selangor, Kajang</td>\n",
              "      <td>Sales Agent                                   ...</td>\n",
              "      <td>5</td>\n",
              "    </tr>\n",
              "  </tbody>\n",
              "</table>\n",
              "</div>"
            ],
            "text/plain": [
              "                                            Car Name Car Brand      Car Model  \\\n",
              "0                   2023 Lexus RX350 2.4 F Sport SUV     Lexus          RX350   \n",
              "1  2010 Toyota Estima 2.4 Aeras MPV Hot Mpv Car I...    Toyota         Estima   \n",
              "2  2020 Porsche Cayenne Coupe 4.0 V8 Turbo AWD Un...   Porsche        Cayenne   \n",
              "3             2021 Honda City 1.5 V i-VTEC Hatchback     Honda           City   \n",
              "4  2022 Toyota Corolla Cross 1.8 V SUV Full Servi...    Toyota  Corolla Cross   \n",
              "\n",
              "   Manufacture Year  Body Type                Fuel Type            Mileage  \\\n",
              "0              2023        SUV  Petrol - Unleaded (ULP)     5 - 10K KM       \n",
              "1              2010        MPV  Petrol - Unleaded (ULP)  115 - 120K KM       \n",
              "2              2020      Coupe  Petrol - Unleaded (ULP)    20 - 25K KM       \n",
              "3              2021  Hatchback  Petrol - Unleaded (ULP)    90 - 95K KM       \n",
              "4              2022        SUV  Petrol - Unleaded (ULP)    80 - 85K KM       \n",
              "\n",
              "  Transmission   Color   Price     Installment  \\\n",
              "0    Automatic   Black  375000  RM 4,862/month   \n",
              "1    Automatic   White   55999    RM 726/month   \n",
              "2    Automatic    Grey  662222  RM 8,585/month   \n",
              "3    Automatic  Silver   67000    RM 869/month   \n",
              "4    Automatic   White   98999  RM 1,283/month   \n",
              "\n",
              "                                Condition           Location  \\\n",
              "0  http://schema.org/RefurbishedCondition   Selangor, Klang    \n",
              "1         http://schema.org/UsedCondition  Selangor, Kajang    \n",
              "2  http://schema.org/RefurbishedCondition   Selangor, Klang    \n",
              "3         http://schema.org/UsedCondition  Johor, Ulu Tiram    \n",
              "4         http://schema.org/UsedCondition  Selangor, Kajang    \n",
              "\n",
              "                                       Sales Channel Seat Capacity  \n",
              "0  Sales Agent                                   ...             5  \n",
              "1  Sales Agent                                   ...             7  \n",
              "2  Sales Agent                                   ...             4  \n",
              "3  Sales Agent                                   ...             5  \n",
              "4  Sales Agent                                   ...             5  "
            ]
          },
          "execution_count": 12,
          "metadata": {},
          "output_type": "execute_result"
        }
      ],
      "source": [
        "df_modin.head()"
      ]
    },
    {
      "cell_type": "markdown",
      "metadata": {
        "id": "LdNH5T5Fle1i"
      },
      "source": [
        "### Replace Null Values"
      ]
    },
    {
      "cell_type": "markdown",
      "metadata": {
        "id": "VYHSxiM3niF0"
      },
      "source": [
        "To handle missing values in the dataset, we replaced the null values in the categorical columns with the most frequent value (mode) of each respective column."
      ]
    },
    {
      "cell_type": "markdown",
      "metadata": {
        "id": "w0tC0lQml-iR"
      },
      "source": [
        "**1. Pandas**"
      ]
    },
    {
      "cell_type": "code",
      "execution_count": 75,
      "metadata": {
        "colab": {
          "base_uri": "https://localhost:8080/",
          "height": 554
        },
        "id": "3GSk1S1rl9rz",
        "outputId": "b0eb537f-8993-49bf-b519-22a170edbcec"
      },
      "outputs": [
        {
          "data": {
            "text/plain": [
              "Car Name             0\n",
              "Car Brand            0\n",
              "Car Model            0\n",
              "Manufacture Year     0\n",
              "Body Type           32\n",
              "Fuel Type           42\n",
              "Mileage              0\n",
              "Transmission         0\n",
              "Color                0\n",
              "Price                0\n",
              "Installment          0\n",
              "Condition            0\n",
              "Location             0\n",
              "Sales Channel       53\n",
              "Seat Capacity        0\n",
              "dtype: int64"
            ]
          },
          "execution_count": 75,
          "metadata": {},
          "output_type": "execute_result"
        }
      ],
      "source": [
        "df_pandas.isnull().sum()\n"
      ]
    },
    {
      "cell_type": "code",
      "execution_count": 76,
      "metadata": {
        "colab": {
          "base_uri": "https://localhost:8080/"
        },
        "id": "gZOfSAlMm0Ju",
        "outputId": "e164a7e5-73fd-482f-d89d-666a3029550e"
      },
      "outputs": [
        {
          "name": "stdout",
          "output_type": "stream",
          "text": [
            "CPU times: total: 172 ms\n",
            "Wall time: 172 ms\n"
          ]
        }
      ],
      "source": [
        "%%time\n",
        "\n",
        "# Replace missing values in categorical columns with the mode (most frequent value)\n",
        "df_pandas['Body Type'] = df_pandas['Body Type'].fillna(df_pandas['Body Type'].mode()[0])\n",
        "df_pandas['Fuel Type'] = df_pandas['Fuel Type'].fillna(df_pandas['Fuel Type'].mode()[0])\n",
        "df_pandas['Sales Channel'] = df_pandas['Sales Channel'].fillna(df_pandas['Sales Channel'].mode()[0])\n",
        "\n",
        "# Replace '-' with the mode for 'Seat Capacity'\n",
        "df_pandas['Seat Capacity'] = df_pandas['Seat Capacity'].replace('-', df_pandas['Seat Capacity'].mode()[0])"
      ]
    },
    {
      "cell_type": "code",
      "execution_count": 77,
      "metadata": {
        "colab": {
          "base_uri": "https://localhost:8080/",
          "height": 554
        },
        "id": "3fUQPpvknFUm",
        "outputId": "008ca6df-8af5-4db0-d781-7244aef179e2"
      },
      "outputs": [
        {
          "data": {
            "text/plain": [
              "Car Name            0\n",
              "Car Brand           0\n",
              "Car Model           0\n",
              "Manufacture Year    0\n",
              "Body Type           0\n",
              "Fuel Type           0\n",
              "Mileage             0\n",
              "Transmission        0\n",
              "Color               0\n",
              "Price               0\n",
              "Installment         0\n",
              "Condition           0\n",
              "Location            0\n",
              "Sales Channel       0\n",
              "Seat Capacity       0\n",
              "dtype: int64"
            ]
          },
          "execution_count": 77,
          "metadata": {},
          "output_type": "execute_result"
        }
      ],
      "source": [
        "df_pandas.isnull().sum()"
      ]
    },
    {
      "cell_type": "markdown",
      "metadata": {
        "id": "5yLx7EsLpda9"
      },
      "source": [
        "### String Cleaning and Formatting"
      ]
    },
    {
      "cell_type": "markdown",
      "metadata": {},
      "source": [
        "**3. Modin**"
      ]
    },
    {
      "cell_type": "code",
      "execution_count": 13,
      "metadata": {},
      "outputs": [
        {
          "data": {
            "text/plain": [
              "Car Name             0\n",
              "Car Brand            0\n",
              "Car Model            0\n",
              "Manufacture Year     0\n",
              "Body Type           32\n",
              "Fuel Type           42\n",
              "Mileage              0\n",
              "Transmission         0\n",
              "Color                0\n",
              "Price                0\n",
              "Installment          0\n",
              "Condition            0\n",
              "Location             0\n",
              "Sales Channel       53\n",
              "Seat Capacity        0\n",
              "dtype: int64"
            ]
          },
          "execution_count": 13,
          "metadata": {},
          "output_type": "execute_result"
        }
      ],
      "source": [
        "df_modin.isnull().sum()"
      ]
    },
    {
      "cell_type": "code",
      "execution_count": 14,
      "metadata": {},
      "outputs": [
        {
          "name": "stdout",
          "output_type": "stream",
          "text": [
            "CPU times: total: 4.25 s\n",
            "Wall time: 6.84 s\n"
          ]
        }
      ],
      "source": [
        "%%time\n",
        "\n",
        "# Replace missing values in categorical columns with the mode (most frequent value)\n",
        "df_modin['Body Type'] = df_modin['Body Type'].fillna(df_modin['Body Type'].mode()[0])\n",
        "df_modin['Fuel Type'] = df_modin['Fuel Type'].fillna(df_modin['Fuel Type'].mode()[0])\n",
        "df_modin['Sales Channel'] = df_modin['Sales Channel'].fillna(df_modin['Sales Channel'].mode()[0])\n",
        "\n",
        "# Replace '-' with the mode for 'Seat Capacity'\n",
        "df_modin['Seat Capacity'] = df_modin['Seat Capacity'].replace('-', df_modin['Seat Capacity'].mode()[0])"
      ]
    },
    {
      "cell_type": "code",
      "execution_count": 15,
      "metadata": {},
      "outputs": [
        {
          "data": {
            "text/plain": [
              "Car Name            0\n",
              "Car Brand           0\n",
              "Car Model           0\n",
              "Manufacture Year    0\n",
              "Body Type           0\n",
              "Fuel Type           0\n",
              "Mileage             0\n",
              "Transmission        0\n",
              "Color               0\n",
              "Price               0\n",
              "Installment         0\n",
              "Condition           0\n",
              "Location            0\n",
              "Sales Channel       0\n",
              "Seat Capacity       0\n",
              "dtype: int64"
            ]
          },
          "execution_count": 15,
          "metadata": {},
          "output_type": "execute_result"
        }
      ],
      "source": [
        "df_modin.isnull().sum()"
      ]
    },
    {
      "cell_type": "markdown",
      "metadata": {
        "id": "PMGH6Vfmpjw4"
      },
      "source": [
        "In this part, we clean string-based columns to ensure consistent formatting and remove unnecessary characters or metadata."
      ]
    },
    {
      "cell_type": "markdown",
      "metadata": {
        "id": "v8qLlExvpiBM"
      },
      "source": [
        "**1. Pandas**"
      ]
    },
    {
      "cell_type": "code",
      "execution_count": 78,
      "metadata": {
        "colab": {
          "base_uri": "https://localhost:8080/"
        },
        "id": "v_9FQvPYpkw2",
        "outputId": "a2ae1d67-3fc7-4e90-a721-970503d52b57"
      },
      "outputs": [
        {
          "name": "stdout",
          "output_type": "stream",
          "text": [
            "Wall time: 238 ms, CPU time: 375 ms\n"
          ]
        }
      ],
      "source": [
        "## Part 1: Clean Installment column\n",
        "start_time = time.time()\n",
        "start_cpu_time = psutil.cpu_times().user  # Start CPU time\n",
        "\n",
        "df_pandas['Installment'] = df_pandas['Installment'].str.replace('RM', '', regex=False)\n",
        "df_pandas['Installment'] = df_pandas['Installment'].str.replace(',', '', regex=False)\n",
        "df_pandas['Installment'] = df_pandas['Installment'].str.replace('/month', '', regex=False)\n",
        "df_pandas['Installment'] = pd.to_numeric(df_pandas['Installment'], errors='coerce')\n",
        "\n",
        "end_time = time.time()\n",
        "end_cpu_time = psutil.cpu_times().user  # End CPU time\n",
        "\n",
        "wall_time = (end_time - start_time) * 1000  # Wall time in ms\n",
        "cpu_time = (end_cpu_time - start_cpu_time) * 1000  # CPU time in ms\n",
        "\n",
        "print(f\"Wall time: {wall_time:.0f} ms, CPU time: {cpu_time:.0f} ms\")\n"
      ]
    },
    {
      "cell_type": "code",
      "execution_count": 79,
      "metadata": {
        "colab": {
          "base_uri": "https://localhost:8080/"
        },
        "id": "AO7Wv15urTW2",
        "outputId": "4636055a-c664-4752-d79a-cd4841b2b330"
      },
      "outputs": [
        {
          "name": "stdout",
          "output_type": "stream",
          "text": [
            "Wall time: 51 ms, CPU time: 78 ms\n"
          ]
        }
      ],
      "source": [
        "## Part 2: Extract Clean Values from Condition column\n",
        "\n",
        "start_time = time.time()\n",
        "start_cpu_time = psutil.cpu_times().user  # Start CPU time\n",
        "\n",
        "# Extract the condition from the URL if it exists, otherwise leave as is\n",
        "df_pandas['Condition'] = df_pandas['Condition'].apply(lambda x: x.split('/org/')[-1].split('Condition')[0] if 'http' in str(x) else x)\n",
        "\n",
        "end_time = time.time()\n",
        "end_cpu_time = psutil.cpu_times().user  # End CPU time\n",
        "\n",
        "wall_time = (end_time - start_time) * 1000  # Wall time in ms\n",
        "cpu_time = (end_cpu_time - start_cpu_time) * 1000  # CPU time in ms\n",
        "\n",
        "print(f\"Wall time: {wall_time:.0f} ms, CPU time: {cpu_time:.0f} ms\")\n"
      ]
    },
    {
      "cell_type": "code",
      "execution_count": null,
      "metadata": {
        "colab": {
          "base_uri": "https://localhost:8080/"
        },
        "id": "YSAcGcY8reHK",
        "outputId": "024e3ba8-550d-4854-941c-0252d65d0f7d"
      },
      "outputs": [
        {
          "name": "stdout",
          "output_type": "stream",
          "text": [
            "Wall time:197 ms, CPU time: 359 ms\n"
          ]
        }
      ],
      "source": [
        "## Part 3: Clean Sales Channel\n",
        "\n",
        "start_time = time.time()\n",
        "start_cpu_time = psutil.cpu_times().user  # Start CPU time\n",
        "\n",
        "df_pandas['Sales Channel'] = df_pandas['Sales Channel'].str.extract(r'^(Sales Agent|Dealer)')\n",
        "\n",
        "end_time = time.time()\n",
        "end_cpu_time = psutil.cpu_times().user  # End CPU time\n",
        "\n",
        "wall_time = (end_time - start_time) * 1000  # Wall time in ms\n",
        "cpu_time = (end_cpu_time - start_cpu_time) * 1000  # CPU time in ms\n",
        "\n",
        "print(f\"Wall time: {wall_time:.0f} ms, CPU time: {cpu_time:.0f} ms\")\n"
      ]
    },
    {
      "cell_type": "code",
      "execution_count": 81,
      "metadata": {
        "colab": {
          "base_uri": "https://localhost:8080/"
        },
        "id": "GeNUsJxtrhI2",
        "outputId": "b8c4d0bc-47e3-402b-ae65-59a4c9b16679"
      },
      "outputs": [
        {
          "name": "stdout",
          "output_type": "stream",
          "text": [
            "Wall time: 215 ms, CPU time: 406 ms\n"
          ]
        }
      ],
      "source": [
        "## Part 4: Clean Mileage\n",
        "\n",
        "start_time = time.time()\n",
        "start_cpu_time = psutil.cpu_times().user  # Start CPU time\n",
        "\n",
        "# Remove \"K KM\"\n",
        "df_pandas['Mileage'] = df_pandas['Mileage'].str.replace('K KM', '', regex=False)\n",
        "\n",
        "# Clean and standardize mileage into 5K step ranges\n",
        "def process_mileage(mileage):\n",
        "    if not isinstance(mileage, str) or mileage.strip() == '':\n",
        "        return None\n",
        "    try:\n",
        "        if '-' in mileage:\n",
        "            start, end = mileage.split('-')\n",
        "            return f\"{int(start.strip())} - {int(end.strip())}\"\n",
        "        else:\n",
        "            val = int(mileage.strip())\n",
        "            lower = (val // 5) * 5\n",
        "            upper = lower + 5\n",
        "            return f\"{lower} - {upper}\"\n",
        "    except:\n",
        "        return None\n",
        "\n",
        "df_pandas['Mileage'] = df_pandas['Mileage'].apply(process_mileage)\n",
        "\n",
        "end_time = time.time()\n",
        "end_cpu_time = psutil.cpu_times().user  # End CPU time\n",
        "\n",
        "wall_time = (end_time - start_time) * 1000  # Wall time in ms\n",
        "cpu_time = (end_cpu_time - start_cpu_time) * 1000  # CPU time in ms\n",
        "\n",
        "print(f\"Wall time: {wall_time:.0f} ms, CPU time: {cpu_time:.0f} ms\")\n"
      ]
    },
    {
      "cell_type": "code",
      "execution_count": 82,
      "metadata": {
        "colab": {
          "base_uri": "https://localhost:8080/",
          "height": 677
        },
        "id": "5VeKIAQKsAvG",
        "outputId": "a6758c3d-cc74-4792-ada6-324badf2caf6"
      },
      "outputs": [
        {
          "data": {
            "text/html": [
              "<div>\n",
              "<style scoped>\n",
              "    .dataframe tbody tr th:only-of-type {\n",
              "        vertical-align: middle;\n",
              "    }\n",
              "\n",
              "    .dataframe tbody tr th {\n",
              "        vertical-align: top;\n",
              "    }\n",
              "\n",
              "    .dataframe thead th {\n",
              "        text-align: right;\n",
              "    }\n",
              "</style>\n",
              "<table border=\"1\" class=\"dataframe\">\n",
              "  <thead>\n",
              "    <tr style=\"text-align: right;\">\n",
              "      <th></th>\n",
              "      <th>Car Name</th>\n",
              "      <th>Car Brand</th>\n",
              "      <th>Car Model</th>\n",
              "      <th>Manufacture Year</th>\n",
              "      <th>Body Type</th>\n",
              "      <th>Fuel Type</th>\n",
              "      <th>Mileage</th>\n",
              "      <th>Transmission</th>\n",
              "      <th>Color</th>\n",
              "      <th>Price</th>\n",
              "      <th>Installment</th>\n",
              "      <th>Condition</th>\n",
              "      <th>Location</th>\n",
              "      <th>Sales Channel</th>\n",
              "      <th>Seat Capacity</th>\n",
              "    </tr>\n",
              "  </thead>\n",
              "  <tbody>\n",
              "    <tr>\n",
              "      <th>0</th>\n",
              "      <td>2023 Lexus RX350 2.4 F Sport SUV</td>\n",
              "      <td>Lexus</td>\n",
              "      <td>RX350</td>\n",
              "      <td>2023</td>\n",
              "      <td>SUV</td>\n",
              "      <td>Petrol - Unleaded (ULP)</td>\n",
              "      <td>5 - 10</td>\n",
              "      <td>Automatic</td>\n",
              "      <td>Black</td>\n",
              "      <td>375000</td>\n",
              "      <td>4862</td>\n",
              "      <td>http://schema.org/Refurbished</td>\n",
              "      <td>Selangor, Klang</td>\n",
              "      <td>Sales Agent</td>\n",
              "      <td>5</td>\n",
              "    </tr>\n",
              "    <tr>\n",
              "      <th>1</th>\n",
              "      <td>2010 Toyota Estima 2.4 Aeras MPV Hot Mpv Car I...</td>\n",
              "      <td>Toyota</td>\n",
              "      <td>Estima</td>\n",
              "      <td>2010</td>\n",
              "      <td>MPV</td>\n",
              "      <td>Petrol - Unleaded (ULP)</td>\n",
              "      <td>115 - 120</td>\n",
              "      <td>Automatic</td>\n",
              "      <td>White</td>\n",
              "      <td>55999</td>\n",
              "      <td>726</td>\n",
              "      <td>http://schema.org/Used</td>\n",
              "      <td>Selangor, Kajang</td>\n",
              "      <td>Sales Agent</td>\n",
              "      <td>7</td>\n",
              "    </tr>\n",
              "    <tr>\n",
              "      <th>2</th>\n",
              "      <td>2020 Porsche Cayenne Coupe 4.0 V8 Turbo AWD Un...</td>\n",
              "      <td>Porsche</td>\n",
              "      <td>Cayenne</td>\n",
              "      <td>2020</td>\n",
              "      <td>Coupe</td>\n",
              "      <td>Petrol - Unleaded (ULP)</td>\n",
              "      <td>20 - 25</td>\n",
              "      <td>Automatic</td>\n",
              "      <td>Grey</td>\n",
              "      <td>662222</td>\n",
              "      <td>8585</td>\n",
              "      <td>http://schema.org/Refurbished</td>\n",
              "      <td>Selangor, Klang</td>\n",
              "      <td>Sales Agent</td>\n",
              "      <td>4</td>\n",
              "    </tr>\n",
              "    <tr>\n",
              "      <th>3</th>\n",
              "      <td>2021 Honda City 1.5 V i-VTEC Hatchback</td>\n",
              "      <td>Honda</td>\n",
              "      <td>City</td>\n",
              "      <td>2021</td>\n",
              "      <td>Hatchback</td>\n",
              "      <td>Petrol - Unleaded (ULP)</td>\n",
              "      <td>90 - 95</td>\n",
              "      <td>Automatic</td>\n",
              "      <td>Silver</td>\n",
              "      <td>67000</td>\n",
              "      <td>869</td>\n",
              "      <td>http://schema.org/Used</td>\n",
              "      <td>Johor, Ulu Tiram</td>\n",
              "      <td>Sales Agent</td>\n",
              "      <td>5</td>\n",
              "    </tr>\n",
              "    <tr>\n",
              "      <th>4</th>\n",
              "      <td>2022 Toyota Corolla Cross 1.8 V SUV Full Servi...</td>\n",
              "      <td>Toyota</td>\n",
              "      <td>Corolla Cross</td>\n",
              "      <td>2022</td>\n",
              "      <td>SUV</td>\n",
              "      <td>Petrol - Unleaded (ULP)</td>\n",
              "      <td>80 - 85</td>\n",
              "      <td>Automatic</td>\n",
              "      <td>White</td>\n",
              "      <td>98999</td>\n",
              "      <td>1283</td>\n",
              "      <td>http://schema.org/Used</td>\n",
              "      <td>Selangor, Kajang</td>\n",
              "      <td>Sales Agent</td>\n",
              "      <td>5</td>\n",
              "    </tr>\n",
              "  </tbody>\n",
              "</table>\n",
              "</div>"
            ],
            "text/plain": [
              "                                            Car Name Car Brand      Car Model  \\\n",
              "0                   2023 Lexus RX350 2.4 F Sport SUV     Lexus          RX350   \n",
              "1  2010 Toyota Estima 2.4 Aeras MPV Hot Mpv Car I...    Toyota         Estima   \n",
              "2  2020 Porsche Cayenne Coupe 4.0 V8 Turbo AWD Un...   Porsche        Cayenne   \n",
              "3             2021 Honda City 1.5 V i-VTEC Hatchback     Honda           City   \n",
              "4  2022 Toyota Corolla Cross 1.8 V SUV Full Servi...    Toyota  Corolla Cross   \n",
              "\n",
              "   Manufacture Year  Body Type                Fuel Type    Mileage  \\\n",
              "0              2023        SUV  Petrol - Unleaded (ULP)     5 - 10   \n",
              "1              2010        MPV  Petrol - Unleaded (ULP)  115 - 120   \n",
              "2              2020      Coupe  Petrol - Unleaded (ULP)    20 - 25   \n",
              "3              2021  Hatchback  Petrol - Unleaded (ULP)    90 - 95   \n",
              "4              2022        SUV  Petrol - Unleaded (ULP)    80 - 85   \n",
              "\n",
              "  Transmission   Color   Price  Installment                      Condition  \\\n",
              "0    Automatic   Black  375000         4862  http://schema.org/Refurbished   \n",
              "1    Automatic   White   55999          726         http://schema.org/Used   \n",
              "2    Automatic    Grey  662222         8585  http://schema.org/Refurbished   \n",
              "3    Automatic  Silver   67000          869         http://schema.org/Used   \n",
              "4    Automatic   White   98999         1283         http://schema.org/Used   \n",
              "\n",
              "            Location Sales Channel Seat Capacity  \n",
              "0   Selangor, Klang    Sales Agent             5  \n",
              "1  Selangor, Kajang    Sales Agent             7  \n",
              "2   Selangor, Klang    Sales Agent             4  \n",
              "3  Johor, Ulu Tiram    Sales Agent             5  \n",
              "4  Selangor, Kajang    Sales Agent             5  "
            ]
          },
          "execution_count": 82,
          "metadata": {},
          "output_type": "execute_result"
        }
      ],
      "source": [
        "# Display dataframe\n",
        "df_pandas.head()"
      ]
    },
    {
      "cell_type": "markdown",
      "metadata": {},
      "source": [
        "**3. Modin**"
      ]
    },
    {
      "cell_type": "code",
      "execution_count": 20,
      "metadata": {},
      "outputs": [
        {
          "name": "stdout",
          "output_type": "stream",
          "text": [
            "Wall time: 1643 ms, CPU time: 5172 ms\n"
          ]
        }
      ],
      "source": [
        "## Part 1: Clean Installment column\n",
        "\n",
        "start_time = time.time()\n",
        "start_cpu_time = psutil.cpu_times().user\n",
        "\n",
        "df_modin['Installment'] = df_modin['Installment'].str.replace('RM', '', regex=False)\n",
        "df_modin['Installment'] = df_modin['Installment'].str.replace(',', '', regex=False)\n",
        "df_modin['Installment'] = df_modin['Installment'].str.replace('/month', '', regex=False)\n",
        "df_modin['Installment'] = pd.to_numeric(df_modin['Installment'], errors='coerce')\n",
        "\n",
        "end_time = time.time()\n",
        "end_cpu_time = psutil.cpu_times().user  # End CPU time\n",
        "\n",
        "wall_time = (end_time - start_time) * 1000  # Wall time in ms\n",
        "cpu_time = (end_cpu_time - start_cpu_time) * 1000  # CPU time in ms\n",
        "\n",
        "print(f\"Wall time: {wall_time:.0f} ms, CPU time: {cpu_time:.0f} ms\")"
      ]
    },
    {
      "cell_type": "code",
      "execution_count": 21,
      "metadata": {},
      "outputs": [
        {
          "name": "stdout",
          "output_type": "stream",
          "text": [
            "Wall time: 131 ms, CPU time: 469 ms\n"
          ]
        }
      ],
      "source": [
        "## Part 2: Extract Clean Values from Condition column\n",
        "start_time = time.time()\n",
        "start_cpu_time = psutil.cpu_times().user\n",
        "\n",
        "# Extract the condition from the URL if it exists, otherwise leave as is\n",
        "df_modin['Condition'] = df_modin['Condition'].apply(lambda x: x.split('/org/')[-1].split('Condition')[0] if 'http' in str(x) else x)\n",
        "\n",
        "end_time = time.time()\n",
        "end_cpu_time = psutil.cpu_times().user  # End CPU time\n",
        "\n",
        "wall_time = (end_time - start_time) * 1000  # Wall time in ms\n",
        "cpu_time = (end_cpu_time - start_cpu_time) * 1000  # CPU time in ms\n",
        "\n",
        "print(f\"Wall time: {wall_time:.0f} ms, CPU time: {cpu_time:.0f} ms\")"
      ]
    },
    {
      "cell_type": "code",
      "execution_count": 22,
      "metadata": {},
      "outputs": [
        {
          "name": "stdout",
          "output_type": "stream",
          "text": [
            "Wall time: 907 ms, CPU time: 2203 ms\n"
          ]
        }
      ],
      "source": [
        "## Part 3: Clean Sales Channel\n",
        "\n",
        "start_time = time.time()\n",
        "start_cpu_time = psutil.cpu_times().user  # Start CPU time\n",
        "\n",
        "df_modin['Sales Channel'] = df_modin['Sales Channel'].str.extract(r'^(Sales Agent|Dealer)')\n",
        "\n",
        "end_time = time.time()\n",
        "end_cpu_time = psutil.cpu_times().user  # End CPU time\n",
        "\n",
        "wall_time = (end_time - start_time) * 1000  # Wall time in ms\n",
        "cpu_time = (end_cpu_time - start_cpu_time) * 1000  # CPU time in ms\n",
        "\n",
        "print(f\"Wall time: {wall_time:.0f} ms, CPU time: {cpu_time:.0f} ms\")\n"
      ]
    },
    {
      "cell_type": "code",
      "execution_count": 23,
      "metadata": {},
      "outputs": [
        {
          "name": "stdout",
          "output_type": "stream",
          "text": [
            "Wall time: 677 ms, CPU time: 3125 ms\n"
          ]
        }
      ],
      "source": [
        "## Part 4: Clean Mileage\n",
        "start_time = time.time()\n",
        "start_cpu_time = psutil.cpu_times().user  # Start CPU time\n",
        "\n",
        "# Remove \"K KM\"\n",
        "df_modin['Mileage'] = df_modin['Mileage'].str.replace('K KM', '', regex=False)\n",
        "\n",
        "# Clean and standardize mileage into 5K step ranges\n",
        "def process_mileage(mileage):\n",
        "    if not isinstance(mileage, str) or mileage.strip() == '':\n",
        "        return None\n",
        "    try:\n",
        "        if '-' in mileage:\n",
        "            start, end = mileage.split('-')\n",
        "            return f\"{int(start.strip())} - {int(end.strip())}\"\n",
        "        else:\n",
        "            val = int(mileage.strip())\n",
        "            lower = (val // 5) * 5\n",
        "            upper = lower + 5\n",
        "            return f\"{lower} - {upper}\"\n",
        "    except:\n",
        "        return None\n",
        "\n",
        "df_modin['Mileage'] = df_modin['Mileage'].apply(process_mileage)\n",
        "\n",
        "end_time = time.time()\n",
        "end_cpu_time = psutil.cpu_times().user  # End CPU time\n",
        "\n",
        "wall_time = (end_time - start_time) * 1000  # Wall time in ms\n",
        "cpu_time = (end_cpu_time - start_cpu_time) * 1000  # CPU time in ms\n",
        "\n",
        "print(f\"Wall time: {wall_time:.0f} ms, CPU time: {cpu_time:.0f} ms\")\n"
      ]
    },
    {
      "cell_type": "code",
      "execution_count": 24,
      "metadata": {},
      "outputs": [
        {
          "data": {
            "text/html": [
              "<div>\n",
              "<style scoped>\n",
              "    .dataframe tbody tr th:only-of-type {\n",
              "        vertical-align: middle;\n",
              "    }\n",
              "\n",
              "    .dataframe tbody tr th {\n",
              "        vertical-align: top;\n",
              "    }\n",
              "\n",
              "    .dataframe thead th {\n",
              "        text-align: right;\n",
              "    }\n",
              "</style>\n",
              "<table border=\"1\" class=\"dataframe\">\n",
              "  <thead>\n",
              "    <tr style=\"text-align: right;\">\n",
              "      <th></th>\n",
              "      <th>Car Name</th>\n",
              "      <th>Car Brand</th>\n",
              "      <th>Car Model</th>\n",
              "      <th>Manufacture Year</th>\n",
              "      <th>Body Type</th>\n",
              "      <th>Fuel Type</th>\n",
              "      <th>Mileage</th>\n",
              "      <th>Transmission</th>\n",
              "      <th>Color</th>\n",
              "      <th>Price</th>\n",
              "      <th>Installment</th>\n",
              "      <th>Condition</th>\n",
              "      <th>Location</th>\n",
              "      <th>Sales Channel</th>\n",
              "      <th>Seat Capacity</th>\n",
              "    </tr>\n",
              "  </thead>\n",
              "  <tbody>\n",
              "    <tr>\n",
              "      <th>0</th>\n",
              "      <td>2023 Lexus RX350 2.4 F Sport SUV</td>\n",
              "      <td>Lexus</td>\n",
              "      <td>RX350</td>\n",
              "      <td>2023</td>\n",
              "      <td>SUV</td>\n",
              "      <td>Petrol - Unleaded (ULP)</td>\n",
              "      <td>5 - 10</td>\n",
              "      <td>Automatic</td>\n",
              "      <td>Black</td>\n",
              "      <td>375000</td>\n",
              "      <td>4862</td>\n",
              "      <td>http://schema.org/Refurbished</td>\n",
              "      <td>Selangor, Klang</td>\n",
              "      <td>Sales Agent</td>\n",
              "      <td>5</td>\n",
              "    </tr>\n",
              "    <tr>\n",
              "      <th>1</th>\n",
              "      <td>2010 Toyota Estima 2.4 Aeras MPV Hot Mpv Car I...</td>\n",
              "      <td>Toyota</td>\n",
              "      <td>Estima</td>\n",
              "      <td>2010</td>\n",
              "      <td>MPV</td>\n",
              "      <td>Petrol - Unleaded (ULP)</td>\n",
              "      <td>115 - 120</td>\n",
              "      <td>Automatic</td>\n",
              "      <td>White</td>\n",
              "      <td>55999</td>\n",
              "      <td>726</td>\n",
              "      <td>http://schema.org/Used</td>\n",
              "      <td>Selangor, Kajang</td>\n",
              "      <td>Sales Agent</td>\n",
              "      <td>7</td>\n",
              "    </tr>\n",
              "    <tr>\n",
              "      <th>2</th>\n",
              "      <td>2020 Porsche Cayenne Coupe 4.0 V8 Turbo AWD Un...</td>\n",
              "      <td>Porsche</td>\n",
              "      <td>Cayenne</td>\n",
              "      <td>2020</td>\n",
              "      <td>Coupe</td>\n",
              "      <td>Petrol - Unleaded (ULP)</td>\n",
              "      <td>20 - 25</td>\n",
              "      <td>Automatic</td>\n",
              "      <td>Grey</td>\n",
              "      <td>662222</td>\n",
              "      <td>8585</td>\n",
              "      <td>http://schema.org/Refurbished</td>\n",
              "      <td>Selangor, Klang</td>\n",
              "      <td>Sales Agent</td>\n",
              "      <td>4</td>\n",
              "    </tr>\n",
              "    <tr>\n",
              "      <th>3</th>\n",
              "      <td>2021 Honda City 1.5 V i-VTEC Hatchback</td>\n",
              "      <td>Honda</td>\n",
              "      <td>City</td>\n",
              "      <td>2021</td>\n",
              "      <td>Hatchback</td>\n",
              "      <td>Petrol - Unleaded (ULP)</td>\n",
              "      <td>90 - 95</td>\n",
              "      <td>Automatic</td>\n",
              "      <td>Silver</td>\n",
              "      <td>67000</td>\n",
              "      <td>869</td>\n",
              "      <td>http://schema.org/Used</td>\n",
              "      <td>Johor, Ulu Tiram</td>\n",
              "      <td>Sales Agent</td>\n",
              "      <td>5</td>\n",
              "    </tr>\n",
              "    <tr>\n",
              "      <th>4</th>\n",
              "      <td>2022 Toyota Corolla Cross 1.8 V SUV Full Servi...</td>\n",
              "      <td>Toyota</td>\n",
              "      <td>Corolla Cross</td>\n",
              "      <td>2022</td>\n",
              "      <td>SUV</td>\n",
              "      <td>Petrol - Unleaded (ULP)</td>\n",
              "      <td>80 - 85</td>\n",
              "      <td>Automatic</td>\n",
              "      <td>White</td>\n",
              "      <td>98999</td>\n",
              "      <td>1283</td>\n",
              "      <td>http://schema.org/Used</td>\n",
              "      <td>Selangor, Kajang</td>\n",
              "      <td>Sales Agent</td>\n",
              "      <td>5</td>\n",
              "    </tr>\n",
              "  </tbody>\n",
              "</table>\n",
              "</div>"
            ],
            "text/plain": [
              "                                            Car Name Car Brand      Car Model  \\\n",
              "0                   2023 Lexus RX350 2.4 F Sport SUV     Lexus          RX350   \n",
              "1  2010 Toyota Estima 2.4 Aeras MPV Hot Mpv Car I...    Toyota         Estima   \n",
              "2  2020 Porsche Cayenne Coupe 4.0 V8 Turbo AWD Un...   Porsche        Cayenne   \n",
              "3             2021 Honda City 1.5 V i-VTEC Hatchback     Honda           City   \n",
              "4  2022 Toyota Corolla Cross 1.8 V SUV Full Servi...    Toyota  Corolla Cross   \n",
              "\n",
              "   Manufacture Year  Body Type                Fuel Type    Mileage  \\\n",
              "0              2023        SUV  Petrol - Unleaded (ULP)     5 - 10   \n",
              "1              2010        MPV  Petrol - Unleaded (ULP)  115 - 120   \n",
              "2              2020      Coupe  Petrol - Unleaded (ULP)    20 - 25   \n",
              "3              2021  Hatchback  Petrol - Unleaded (ULP)    90 - 95   \n",
              "4              2022        SUV  Petrol - Unleaded (ULP)    80 - 85   \n",
              "\n",
              "  Transmission   Color   Price  Installment                      Condition  \\\n",
              "0    Automatic   Black  375000         4862  http://schema.org/Refurbished   \n",
              "1    Automatic   White   55999          726         http://schema.org/Used   \n",
              "2    Automatic    Grey  662222         8585  http://schema.org/Refurbished   \n",
              "3    Automatic  Silver   67000          869         http://schema.org/Used   \n",
              "4    Automatic   White   98999         1283         http://schema.org/Used   \n",
              "\n",
              "            Location Sales Channel Seat Capacity  \n",
              "0   Selangor, Klang    Sales Agent             5  \n",
              "1  Selangor, Kajang    Sales Agent             7  \n",
              "2   Selangor, Klang    Sales Agent             4  \n",
              "3  Johor, Ulu Tiram    Sales Agent             5  \n",
              "4  Selangor, Kajang    Sales Agent             5  "
            ]
          },
          "execution_count": 24,
          "metadata": {},
          "output_type": "execute_result"
        }
      ],
      "source": [
        "df_modin.head()"
      ]
    },
    {
      "cell_type": "markdown",
      "metadata": {
        "id": "XUpFKE99sS8u"
      },
      "source": [
        "### Rename Columns"
      ]
    },
    {
      "cell_type": "markdown",
      "metadata": {
        "id": "QrASeXW1sXb-"
      },
      "source": [
        "Renamed selected columns to include units for better understanding and presentation."
      ]
    },
    {
      "cell_type": "markdown",
      "metadata": {
        "id": "8kZe9DOKZjOx"
      },
      "source": [
        "**1. Pandas**"
      ]
    },
    {
      "cell_type": "code",
      "execution_count": 83,
      "metadata": {
        "colab": {
          "base_uri": "https://localhost:8080/"
        },
        "id": "4GvDdCApsSBR",
        "outputId": "c06aeab2-e1bb-4ea2-ac3f-c7b77b8c8cb1"
      },
      "outputs": [
        {
          "name": "stdout",
          "output_type": "stream",
          "text": [
            "CPU times: total: 0 ns\n",
            "Wall time: 317 μs\n"
          ]
        }
      ],
      "source": [
        "%%time\n",
        "\n",
        "df_pandas.rename(columns={\n",
        "    'Mileage': 'Mileage (K KM)',\n",
        "    'Price': 'Price (RM)',\n",
        "    'Installment': 'Installment (RM)'\n",
        "}, inplace=True)"
      ]
    },
    {
      "cell_type": "code",
      "execution_count": 84,
      "metadata": {
        "colab": {
          "base_uri": "https://localhost:8080/"
        },
        "id": "CPwUfBpIsmNd",
        "outputId": "1ff9c646-5051-4da0-cb0c-ae4f129a069f"
      },
      "outputs": [
        {
          "data": {
            "text/html": [
              "<div>\n",
              "<style scoped>\n",
              "    .dataframe tbody tr th:only-of-type {\n",
              "        vertical-align: middle;\n",
              "    }\n",
              "\n",
              "    .dataframe tbody tr th {\n",
              "        vertical-align: top;\n",
              "    }\n",
              "\n",
              "    .dataframe thead th {\n",
              "        text-align: right;\n",
              "    }\n",
              "</style>\n",
              "<table border=\"1\" class=\"dataframe\">\n",
              "  <thead>\n",
              "    <tr style=\"text-align: right;\">\n",
              "      <th></th>\n",
              "      <th>Car Name</th>\n",
              "      <th>Car Brand</th>\n",
              "      <th>Car Model</th>\n",
              "      <th>Manufacture Year</th>\n",
              "      <th>Body Type</th>\n",
              "      <th>Fuel Type</th>\n",
              "      <th>Mileage (K KM)</th>\n",
              "      <th>Transmission</th>\n",
              "      <th>Color</th>\n",
              "      <th>Price (RM)</th>\n",
              "      <th>Installment (RM)</th>\n",
              "      <th>Condition</th>\n",
              "      <th>Location</th>\n",
              "      <th>Sales Channel</th>\n",
              "      <th>Seat Capacity</th>\n",
              "    </tr>\n",
              "  </thead>\n",
              "  <tbody>\n",
              "    <tr>\n",
              "      <th>0</th>\n",
              "      <td>2023 Lexus RX350 2.4 F Sport SUV</td>\n",
              "      <td>Lexus</td>\n",
              "      <td>RX350</td>\n",
              "      <td>2023</td>\n",
              "      <td>SUV</td>\n",
              "      <td>Petrol - Unleaded (ULP)</td>\n",
              "      <td>5 - 10</td>\n",
              "      <td>Automatic</td>\n",
              "      <td>Black</td>\n",
              "      <td>375000</td>\n",
              "      <td>4862</td>\n",
              "      <td>http://schema.org/Refurbished</td>\n",
              "      <td>Selangor, Klang</td>\n",
              "      <td>Sales Agent</td>\n",
              "      <td>5</td>\n",
              "    </tr>\n",
              "    <tr>\n",
              "      <th>1</th>\n",
              "      <td>2010 Toyota Estima 2.4 Aeras MPV Hot Mpv Car I...</td>\n",
              "      <td>Toyota</td>\n",
              "      <td>Estima</td>\n",
              "      <td>2010</td>\n",
              "      <td>MPV</td>\n",
              "      <td>Petrol - Unleaded (ULP)</td>\n",
              "      <td>115 - 120</td>\n",
              "      <td>Automatic</td>\n",
              "      <td>White</td>\n",
              "      <td>55999</td>\n",
              "      <td>726</td>\n",
              "      <td>http://schema.org/Used</td>\n",
              "      <td>Selangor, Kajang</td>\n",
              "      <td>Sales Agent</td>\n",
              "      <td>7</td>\n",
              "    </tr>\n",
              "    <tr>\n",
              "      <th>2</th>\n",
              "      <td>2020 Porsche Cayenne Coupe 4.0 V8 Turbo AWD Un...</td>\n",
              "      <td>Porsche</td>\n",
              "      <td>Cayenne</td>\n",
              "      <td>2020</td>\n",
              "      <td>Coupe</td>\n",
              "      <td>Petrol - Unleaded (ULP)</td>\n",
              "      <td>20 - 25</td>\n",
              "      <td>Automatic</td>\n",
              "      <td>Grey</td>\n",
              "      <td>662222</td>\n",
              "      <td>8585</td>\n",
              "      <td>http://schema.org/Refurbished</td>\n",
              "      <td>Selangor, Klang</td>\n",
              "      <td>Sales Agent</td>\n",
              "      <td>4</td>\n",
              "    </tr>\n",
              "    <tr>\n",
              "      <th>3</th>\n",
              "      <td>2021 Honda City 1.5 V i-VTEC Hatchback</td>\n",
              "      <td>Honda</td>\n",
              "      <td>City</td>\n",
              "      <td>2021</td>\n",
              "      <td>Hatchback</td>\n",
              "      <td>Petrol - Unleaded (ULP)</td>\n",
              "      <td>90 - 95</td>\n",
              "      <td>Automatic</td>\n",
              "      <td>Silver</td>\n",
              "      <td>67000</td>\n",
              "      <td>869</td>\n",
              "      <td>http://schema.org/Used</td>\n",
              "      <td>Johor, Ulu Tiram</td>\n",
              "      <td>Sales Agent</td>\n",
              "      <td>5</td>\n",
              "    </tr>\n",
              "    <tr>\n",
              "      <th>4</th>\n",
              "      <td>2022 Toyota Corolla Cross 1.8 V SUV Full Servi...</td>\n",
              "      <td>Toyota</td>\n",
              "      <td>Corolla Cross</td>\n",
              "      <td>2022</td>\n",
              "      <td>SUV</td>\n",
              "      <td>Petrol - Unleaded (ULP)</td>\n",
              "      <td>80 - 85</td>\n",
              "      <td>Automatic</td>\n",
              "      <td>White</td>\n",
              "      <td>98999</td>\n",
              "      <td>1283</td>\n",
              "      <td>http://schema.org/Used</td>\n",
              "      <td>Selangor, Kajang</td>\n",
              "      <td>Sales Agent</td>\n",
              "      <td>5</td>\n",
              "    </tr>\n",
              "  </tbody>\n",
              "</table>\n",
              "</div>"
            ],
            "text/plain": [
              "                                            Car Name Car Brand      Car Model  \\\n",
              "0                   2023 Lexus RX350 2.4 F Sport SUV     Lexus          RX350   \n",
              "1  2010 Toyota Estima 2.4 Aeras MPV Hot Mpv Car I...    Toyota         Estima   \n",
              "2  2020 Porsche Cayenne Coupe 4.0 V8 Turbo AWD Un...   Porsche        Cayenne   \n",
              "3             2021 Honda City 1.5 V i-VTEC Hatchback     Honda           City   \n",
              "4  2022 Toyota Corolla Cross 1.8 V SUV Full Servi...    Toyota  Corolla Cross   \n",
              "\n",
              "   Manufacture Year  Body Type                Fuel Type Mileage (K KM)  \\\n",
              "0              2023        SUV  Petrol - Unleaded (ULP)         5 - 10   \n",
              "1              2010        MPV  Petrol - Unleaded (ULP)      115 - 120   \n",
              "2              2020      Coupe  Petrol - Unleaded (ULP)        20 - 25   \n",
              "3              2021  Hatchback  Petrol - Unleaded (ULP)        90 - 95   \n",
              "4              2022        SUV  Petrol - Unleaded (ULP)        80 - 85   \n",
              "\n",
              "  Transmission   Color  Price (RM)  Installment (RM)  \\\n",
              "0    Automatic   Black      375000              4862   \n",
              "1    Automatic   White       55999               726   \n",
              "2    Automatic    Grey      662222              8585   \n",
              "3    Automatic  Silver       67000               869   \n",
              "4    Automatic   White       98999              1283   \n",
              "\n",
              "                       Condition           Location Sales Channel  \\\n",
              "0  http://schema.org/Refurbished   Selangor, Klang    Sales Agent   \n",
              "1         http://schema.org/Used  Selangor, Kajang    Sales Agent   \n",
              "2  http://schema.org/Refurbished   Selangor, Klang    Sales Agent   \n",
              "3         http://schema.org/Used  Johor, Ulu Tiram    Sales Agent   \n",
              "4         http://schema.org/Used  Selangor, Kajang    Sales Agent   \n",
              "\n",
              "  Seat Capacity  \n",
              "0             5  \n",
              "1             7  \n",
              "2             4  \n",
              "3             5  \n",
              "4             5  "
            ]
          },
          "execution_count": 84,
          "metadata": {},
          "output_type": "execute_result"
        }
      ],
      "source": [
        "# Display dataframe\n",
        "df_pandas.head()"
      ]
    },
    {
      "cell_type": "markdown",
      "metadata": {},
      "source": [
        "**3. Modin**"
      ]
    },
    {
      "cell_type": "code",
      "execution_count": 25,
      "metadata": {},
      "outputs": [
        {
          "name": "stdout",
          "output_type": "stream",
          "text": [
            "CPU times: total: 0 ns\n",
            "Wall time: 998 μs\n"
          ]
        }
      ],
      "source": [
        "%%time\n",
        "\n",
        "df_modin.rename(columns={\n",
        "    'Mileage': 'Mileage (K KM)',\n",
        "    'Price': 'Price (RM)',\n",
        "    'Installment': 'Installment (RM)'\n",
        "}, inplace=True)"
      ]
    },
    {
      "cell_type": "code",
      "execution_count": 26,
      "metadata": {},
      "outputs": [
        {
          "data": {
            "text/html": [
              "<div>\n",
              "<style scoped>\n",
              "    .dataframe tbody tr th:only-of-type {\n",
              "        vertical-align: middle;\n",
              "    }\n",
              "\n",
              "    .dataframe tbody tr th {\n",
              "        vertical-align: top;\n",
              "    }\n",
              "\n",
              "    .dataframe thead th {\n",
              "        text-align: right;\n",
              "    }\n",
              "</style>\n",
              "<table border=\"1\" class=\"dataframe\">\n",
              "  <thead>\n",
              "    <tr style=\"text-align: right;\">\n",
              "      <th></th>\n",
              "      <th>Car Name</th>\n",
              "      <th>Car Brand</th>\n",
              "      <th>Car Model</th>\n",
              "      <th>Manufacture Year</th>\n",
              "      <th>Body Type</th>\n",
              "      <th>Fuel Type</th>\n",
              "      <th>Mileage (K KM)</th>\n",
              "      <th>Transmission</th>\n",
              "      <th>Color</th>\n",
              "      <th>Price (RM)</th>\n",
              "      <th>Installment (RM)</th>\n",
              "      <th>Condition</th>\n",
              "      <th>Location</th>\n",
              "      <th>Sales Channel</th>\n",
              "      <th>Seat Capacity</th>\n",
              "    </tr>\n",
              "  </thead>\n",
              "  <tbody>\n",
              "    <tr>\n",
              "      <th>0</th>\n",
              "      <td>2023 Lexus RX350 2.4 F Sport SUV</td>\n",
              "      <td>Lexus</td>\n",
              "      <td>RX350</td>\n",
              "      <td>2023</td>\n",
              "      <td>SUV</td>\n",
              "      <td>Petrol - Unleaded (ULP)</td>\n",
              "      <td>5 - 10</td>\n",
              "      <td>Automatic</td>\n",
              "      <td>Black</td>\n",
              "      <td>375000</td>\n",
              "      <td>4862</td>\n",
              "      <td>http://schema.org/Refurbished</td>\n",
              "      <td>Selangor, Klang</td>\n",
              "      <td>Sales Agent</td>\n",
              "      <td>5</td>\n",
              "    </tr>\n",
              "    <tr>\n",
              "      <th>1</th>\n",
              "      <td>2010 Toyota Estima 2.4 Aeras MPV Hot Mpv Car I...</td>\n",
              "      <td>Toyota</td>\n",
              "      <td>Estima</td>\n",
              "      <td>2010</td>\n",
              "      <td>MPV</td>\n",
              "      <td>Petrol - Unleaded (ULP)</td>\n",
              "      <td>115 - 120</td>\n",
              "      <td>Automatic</td>\n",
              "      <td>White</td>\n",
              "      <td>55999</td>\n",
              "      <td>726</td>\n",
              "      <td>http://schema.org/Used</td>\n",
              "      <td>Selangor, Kajang</td>\n",
              "      <td>Sales Agent</td>\n",
              "      <td>7</td>\n",
              "    </tr>\n",
              "    <tr>\n",
              "      <th>2</th>\n",
              "      <td>2020 Porsche Cayenne Coupe 4.0 V8 Turbo AWD Un...</td>\n",
              "      <td>Porsche</td>\n",
              "      <td>Cayenne</td>\n",
              "      <td>2020</td>\n",
              "      <td>Coupe</td>\n",
              "      <td>Petrol - Unleaded (ULP)</td>\n",
              "      <td>20 - 25</td>\n",
              "      <td>Automatic</td>\n",
              "      <td>Grey</td>\n",
              "      <td>662222</td>\n",
              "      <td>8585</td>\n",
              "      <td>http://schema.org/Refurbished</td>\n",
              "      <td>Selangor, Klang</td>\n",
              "      <td>Sales Agent</td>\n",
              "      <td>4</td>\n",
              "    </tr>\n",
              "    <tr>\n",
              "      <th>3</th>\n",
              "      <td>2021 Honda City 1.5 V i-VTEC Hatchback</td>\n",
              "      <td>Honda</td>\n",
              "      <td>City</td>\n",
              "      <td>2021</td>\n",
              "      <td>Hatchback</td>\n",
              "      <td>Petrol - Unleaded (ULP)</td>\n",
              "      <td>90 - 95</td>\n",
              "      <td>Automatic</td>\n",
              "      <td>Silver</td>\n",
              "      <td>67000</td>\n",
              "      <td>869</td>\n",
              "      <td>http://schema.org/Used</td>\n",
              "      <td>Johor, Ulu Tiram</td>\n",
              "      <td>Sales Agent</td>\n",
              "      <td>5</td>\n",
              "    </tr>\n",
              "    <tr>\n",
              "      <th>4</th>\n",
              "      <td>2022 Toyota Corolla Cross 1.8 V SUV Full Servi...</td>\n",
              "      <td>Toyota</td>\n",
              "      <td>Corolla Cross</td>\n",
              "      <td>2022</td>\n",
              "      <td>SUV</td>\n",
              "      <td>Petrol - Unleaded (ULP)</td>\n",
              "      <td>80 - 85</td>\n",
              "      <td>Automatic</td>\n",
              "      <td>White</td>\n",
              "      <td>98999</td>\n",
              "      <td>1283</td>\n",
              "      <td>http://schema.org/Used</td>\n",
              "      <td>Selangor, Kajang</td>\n",
              "      <td>Sales Agent</td>\n",
              "      <td>5</td>\n",
              "    </tr>\n",
              "  </tbody>\n",
              "</table>\n",
              "</div>"
            ],
            "text/plain": [
              "                                            Car Name Car Brand      Car Model  \\\n",
              "0                   2023 Lexus RX350 2.4 F Sport SUV     Lexus          RX350   \n",
              "1  2010 Toyota Estima 2.4 Aeras MPV Hot Mpv Car I...    Toyota         Estima   \n",
              "2  2020 Porsche Cayenne Coupe 4.0 V8 Turbo AWD Un...   Porsche        Cayenne   \n",
              "3             2021 Honda City 1.5 V i-VTEC Hatchback     Honda           City   \n",
              "4  2022 Toyota Corolla Cross 1.8 V SUV Full Servi...    Toyota  Corolla Cross   \n",
              "\n",
              "   Manufacture Year  Body Type                Fuel Type Mileage (K KM)  \\\n",
              "0              2023        SUV  Petrol - Unleaded (ULP)         5 - 10   \n",
              "1              2010        MPV  Petrol - Unleaded (ULP)      115 - 120   \n",
              "2              2020      Coupe  Petrol - Unleaded (ULP)        20 - 25   \n",
              "3              2021  Hatchback  Petrol - Unleaded (ULP)        90 - 95   \n",
              "4              2022        SUV  Petrol - Unleaded (ULP)        80 - 85   \n",
              "\n",
              "  Transmission   Color  Price (RM)  Installment (RM)  \\\n",
              "0    Automatic   Black      375000              4862   \n",
              "1    Automatic   White       55999               726   \n",
              "2    Automatic    Grey      662222              8585   \n",
              "3    Automatic  Silver       67000               869   \n",
              "4    Automatic   White       98999              1283   \n",
              "\n",
              "                       Condition           Location Sales Channel  \\\n",
              "0  http://schema.org/Refurbished   Selangor, Klang    Sales Agent   \n",
              "1         http://schema.org/Used  Selangor, Kajang    Sales Agent   \n",
              "2  http://schema.org/Refurbished   Selangor, Klang    Sales Agent   \n",
              "3         http://schema.org/Used  Johor, Ulu Tiram    Sales Agent   \n",
              "4         http://schema.org/Used  Selangor, Kajang    Sales Agent   \n",
              "\n",
              "  Seat Capacity  \n",
              "0             5  \n",
              "1             7  \n",
              "2             4  \n",
              "3             5  \n",
              "4             5  "
            ]
          },
          "execution_count": 26,
          "metadata": {},
          "output_type": "execute_result"
        }
      ],
      "source": [
        "df_modin.head()"
      ]
    },
    {
      "cell_type": "markdown",
      "metadata": {
        "id": "XxMhg_dIoGKF"
      },
      "source": [
        "### Optimize Memory Usage by Using Efficient Data Types"
      ]
    },
    {
      "cell_type": "markdown",
      "metadata": {
        "id": "Rm6nAFKwod1a"
      },
      "source": [
        "The dataset may contain columns with default data types that are not memory-efficient. To improve performance and reduce memory consumption, we will convert columns to more suitable data types, such as downcasting numerical columns and converting categorical data to the category type."
      ]
    },
    {
      "cell_type": "markdown",
      "metadata": {
        "id": "8kk68KJZoSmu"
      },
      "source": [
        "**1. Pandas**"
      ]
    },
    {
      "cell_type": "code",
      "execution_count": 85,
      "metadata": {
        "colab": {
          "base_uri": "https://localhost:8080/"
        },
        "id": "Y4rvt2iDogh-",
        "outputId": "366f8511-c7ec-49e2-af3a-e477dd5de695"
      },
      "outputs": [
        {
          "name": "stdout",
          "output_type": "stream",
          "text": [
            "<class 'pandas.core.frame.DataFrame'>\n",
            "RangeIndex: 174150 entries, 0 to 174149\n",
            "Data columns (total 15 columns):\n",
            " #   Column            Non-Null Count   Dtype \n",
            "---  ------            --------------   ----- \n",
            " 0   Car Name          174150 non-null  object\n",
            " 1   Car Brand         174150 non-null  object\n",
            " 2   Car Model         174150 non-null  object\n",
            " 3   Manufacture Year  174150 non-null  int64 \n",
            " 4   Body Type         174150 non-null  object\n",
            " 5   Fuel Type         174150 non-null  object\n",
            " 6   Mileage (K KM)    168791 non-null  object\n",
            " 7   Transmission      174150 non-null  object\n",
            " 8   Color             174150 non-null  object\n",
            " 9   Price (RM)        174150 non-null  int64 \n",
            " 10  Installment (RM)  174150 non-null  int64 \n",
            " 11  Condition         174150 non-null  object\n",
            " 12  Location          174150 non-null  object\n",
            " 13  Sales Channel     169939 non-null  object\n",
            " 14  Seat Capacity     174150 non-null  object\n",
            "dtypes: int64(3), object(12)\n",
            "memory usage: 19.9+ MB\n"
          ]
        }
      ],
      "source": [
        "# Check the initial info about the dataset\n",
        "df_pandas.info()\n"
      ]
    },
    {
      "cell_type": "code",
      "execution_count": 86,
      "metadata": {
        "colab": {
          "base_uri": "https://localhost:8080/"
        },
        "id": "juREVoHSolhe",
        "outputId": "74e7662e-6481-48c9-dd06-d548b8f895e7"
      },
      "outputs": [
        {
          "name": "stdout",
          "output_type": "stream",
          "text": [
            "Initial memory usage: 19.93 MB\n"
          ]
        }
      ],
      "source": [
        "# Calculate initial memory usage in MB\n",
        "start_mem = df_pandas.memory_usage().sum() / 1024**2  # Convert bytes to megabytes\n",
        "print(f\"Initial memory usage: {start_mem:.2f} MB\")"
      ]
    },
    {
      "cell_type": "code",
      "execution_count": 87,
      "metadata": {
        "colab": {
          "base_uri": "https://localhost:8080/"
        },
        "id": "JbLZFaNMooBA",
        "outputId": "c6253023-930b-4cf0-dac0-ee3a12d90489"
      },
      "outputs": [
        {
          "name": "stdout",
          "output_type": "stream",
          "text": [
            "CPU times: total: 359 ms\n",
            "Wall time: 356 ms\n"
          ]
        }
      ],
      "source": [
        "%%time\n",
        "\n",
        "# Numeric downcasting\n",
        "df_pandas['Manufacture Year'] = df_pandas['Manufacture Year'].astype('int16')\n",
        "df_pandas[['Price (RM)', 'Installment (RM)']] = df_pandas[['Price (RM)', 'Installment (RM)']].astype('int32')\n",
        "df_pandas['Seat Capacity'] = pd.to_numeric(df_pandas['Seat Capacity'], errors='coerce').astype('int8')\n",
        "\n",
        "# Categorical conversion\n",
        "categorical_columns = ['Car Brand', 'Car Model', 'Body Type', 'Fuel Type',\n",
        "                       'Transmission', 'Color', 'Condition', 'Sales Channel', 'Mileage (K KM)']\n",
        "df_pandas[categorical_columns] = df_pandas[categorical_columns].apply(lambda x: x.astype('category'))"
      ]
    },
    {
      "cell_type": "code",
      "execution_count": 88,
      "metadata": {
        "colab": {
          "base_uri": "https://localhost:8080/",
          "height": 554
        },
        "id": "PlfwyQSfvVNU",
        "outputId": "318aa8a3-ba1e-4f49-dd25-ebdda9c00dd0"
      },
      "outputs": [
        {
          "data": {
            "text/plain": [
              "Car Name              object\n",
              "Car Brand           category\n",
              "Car Model           category\n",
              "Manufacture Year       int16\n",
              "Body Type           category\n",
              "Fuel Type           category\n",
              "Mileage (K KM)      category\n",
              "Transmission        category\n",
              "Color               category\n",
              "Price (RM)             int32\n",
              "Installment (RM)       int32\n",
              "Condition           category\n",
              "Location              object\n",
              "Sales Channel       category\n",
              "Seat Capacity           int8\n",
              "dtype: object"
            ]
          },
          "execution_count": 88,
          "metadata": {},
          "output_type": "execute_result"
        }
      ],
      "source": [
        "# Check the data types of all columns after the conversion\n",
        "df_pandas.dtypes"
      ]
    },
    {
      "cell_type": "code",
      "execution_count": 89,
      "metadata": {
        "colab": {
          "base_uri": "https://localhost:8080/"
        },
        "id": "wtbNtxivvYa2",
        "outputId": "9d919f25-a93a-476f-b272-78f0d5aa0422"
      },
      "outputs": [
        {
          "name": "stdout",
          "output_type": "stream",
          "text": [
            "Memory usage after optimization: 6.19 MB\n",
            "Memory saved: 13.74 MB\n"
          ]
        }
      ],
      "source": [
        "# Calculate memory usage after the conversion\n",
        "end_mem = df_pandas.memory_usage().sum() / 1024**2  # Convert bytes to megabytes\n",
        "print(f\"Memory usage after optimization: {end_mem:.2f} MB\")\n",
        "\n",
        "# Print the memory saved\n",
        "print(f\"Memory saved: {start_mem - end_mem:.2f} MB\")"
      ]
    },
    {
      "cell_type": "markdown",
      "metadata": {},
      "source": [
        "**3. Modin**"
      ]
    },
    {
      "cell_type": "code",
      "execution_count": 27,
      "metadata": {},
      "outputs": [
        {
          "name": "stdout",
          "output_type": "stream",
          "text": [
            "<class 'modin.pandas.dataframe.DataFrame'>\n",
            "RangeIndex: 174150 entries, 0 to 174149\n",
            "Data columns (total 15 columns):\n",
            " #   Column            Non-Null Count   Dtype \n",
            "---  ------            --------------   ----- \n",
            " 0   Car Name          174150 non-null  object\n",
            " 1   Car Brand         174150 non-null  object\n",
            " 2   Car Model         174150 non-null  object\n",
            " 3   Manufacture Year  174150 non-null  int64 \n",
            " 4   Body Type         174150 non-null  object\n",
            " 5   Fuel Type         174150 non-null  object\n",
            " 6   Mileage (K KM)    168791 non-null  object\n",
            " 7   Transmission      174150 non-null  object\n",
            " 8   Color             174150 non-null  object\n",
            " 9   Price (RM)        174150 non-null  int64 \n",
            " 10  Installment (RM)  174150 non-null  int64 \n",
            " 11  Condition         174150 non-null  object\n",
            " 12  Location          174150 non-null  object\n",
            " 13  Sales Channel     169939 non-null  object\n",
            " 14  Seat Capacity     174150 non-null  object\n",
            "dtypes: int64(3), object(12)\n",
            "memory usage: 19.9+ MB\n"
          ]
        }
      ],
      "source": [
        "# Check the initial info about the dataset\n",
        "df_modin.info()"
      ]
    },
    {
      "cell_type": "code",
      "execution_count": 28,
      "metadata": {},
      "outputs": [
        {
          "name": "stdout",
          "output_type": "stream",
          "text": [
            "Initial memory usage: 19.93 MB\n"
          ]
        }
      ],
      "source": [
        "# Calculate initial memory usage in MB\n",
        "start_mem = df_modin.memory_usage().sum() / 1024**2  # Convert bytes to megabytes\n",
        "print(f\"Initial memory usage: {start_mem:.2f} MB\")"
      ]
    },
    {
      "cell_type": "code",
      "execution_count": 29,
      "metadata": {},
      "outputs": [
        {
          "name": "stdout",
          "output_type": "stream",
          "text": [
            "CPU times: total: 4.17 s\n",
            "Wall time: 5.15 s\n"
          ]
        }
      ],
      "source": [
        "%%time\n",
        "\n",
        "# Numeric downcasting\n",
        "df_modin['Manufacture Year'] = df_modin['Manufacture Year'].astype('int16')\n",
        "df_modin[['Price (RM)', 'Installment (RM)']] = df_modin[['Price (RM)', 'Installment (RM)']].astype('int32')\n",
        "df_modin['Seat Capacity'] = pd.to_numeric(df_modin['Seat Capacity'], errors='coerce').astype('int8')\n",
        "\n",
        "# Categorical conversion\n",
        "categorical_columns = ['Car Brand', 'Car Model', 'Body Type', 'Fuel Type',\n",
        "                       'Transmission', 'Color', 'Condition', 'Sales Channel', 'Mileage (K KM)']\n",
        "df_modin[categorical_columns] = df_modin[categorical_columns].apply(lambda x: x.astype('category'))"
      ]
    },
    {
      "cell_type": "code",
      "execution_count": 30,
      "metadata": {},
      "outputs": [
        {
          "name": "stdout",
          "output_type": "stream",
          "text": [
            "Memory usage after optimization: 6.27 MB\n",
            "Memory saved: 13.66 MB\n"
          ]
        }
      ],
      "source": [
        "# Calculate memory usage after the conversion\n",
        "end_mem = df_modin.memory_usage().sum() / 1024**2  # Convert bytes to megabytes\n",
        "print(f\"Memory usage after optimization: {end_mem:.2f} MB\")\n",
        "\n",
        "# Print the memory saved\n",
        "print(f\"Memory saved: {start_mem - end_mem:.2f} MB\")"
      ]
    },
    {
      "cell_type": "code",
      "execution_count": 31,
      "metadata": {},
      "outputs": [
        {
          "name": "stdout",
          "output_type": "stream",
          "text": [
            "<class 'modin.pandas.dataframe.DataFrame'>\n",
            "RangeIndex: 174150 entries, 0 to 174149\n",
            "Data columns (total 15 columns):\n",
            " #   Column            Non-Null Count   Dtype   \n",
            "---  ------            --------------   -----   \n",
            " 0   Car Name          174150 non-null  object  \n",
            " 1   Car Brand         174150 non-null  category\n",
            " 2   Car Model         174150 non-null  category\n",
            " 3   Manufacture Year  174150 non-null  int16   \n",
            " 4   Body Type         174150 non-null  category\n",
            " 5   Fuel Type         174150 non-null  category\n",
            " 6   Mileage (K KM)    168791 non-null  category\n",
            " 7   Transmission      174150 non-null  category\n",
            " 8   Color             174150 non-null  category\n",
            " 9   Price (RM)        174150 non-null  int32   \n",
            " 10  Installment (RM)  174150 non-null  int32   \n",
            " 11  Condition         174150 non-null  category\n",
            " 12  Location          174150 non-null  object  \n",
            " 13  Sales Channel     169939 non-null  category\n",
            " 14  Seat Capacity     174150 non-null  int8    \n",
            "dtypes: category(9), int16(1), int32(2), int8(1), object(2)\n",
            "memory usage: 6.6+ MB\n"
          ]
        }
      ],
      "source": [
        "# Check the initial info about the dataset\n",
        "df_modin.info()"
      ]
    },
    {
      "cell_type": "markdown",
      "metadata": {
        "id": "8BW0vvmjw0NV"
      },
      "source": [
        "### Drop Duplicated Rows"
      ]
    },
    {
      "cell_type": "markdown",
      "metadata": {
        "id": "PzYjv8nyw4iN"
      },
      "source": [
        "**1. Pandas**"
      ]
    },
    {
      "cell_type": "code",
      "execution_count": 90,
      "metadata": {
        "colab": {
          "base_uri": "https://localhost:8080/"
        },
        "id": "9qzs0ZQWxF2N",
        "outputId": "bd724647-0950-4d0f-a6d7-e8551e5ef118"
      },
      "outputs": [
        {
          "name": "stdout",
          "output_type": "stream",
          "text": [
            "Number of duplicate rows: 3940\n"
          ]
        }
      ],
      "source": [
        "# Check for duplicate rows (without %%time)\n",
        "duplicates = df_pandas.duplicated().sum()\n",
        "print(f\"Number of duplicate rows: {duplicates}\")"
      ]
    },
    {
      "cell_type": "code",
      "execution_count": null,
      "metadata": {
        "colab": {
          "base_uri": "https://localhost:8080/"
        },
        "id": "5GzZY3rAxHPj",
        "outputId": "9583fc55-1540-4ace-f6ec-63c8d23fdbeb"
      },
      "outputs": [
        {
          "name": "stdout",
          "output_type": "stream",
          "text": [
            "Wall time:138 ms, CPU time: 156 ms\n"
          ]
        }
      ],
      "source": [
        "# Drop duplicate rows\n",
        "\n",
        "start_time = time.time()\n",
        "start_cpu_time = psutil.cpu_times().user  # Start CPU time\n",
        "\n",
        "df_pandas = df_pandas.drop_duplicates()\n",
        "\n",
        "end_time = time.time()\n",
        "end_cpu_time = psutil.cpu_times().user  # End CPU time\n",
        "\n",
        "wall_time = (end_time - start_time) * 1000  # Wall time in ms\n",
        "cpu_time = (end_cpu_time - start_cpu_time) * 1000  # CPU time in ms\n",
        "\n",
        "print(f\"Wall time: {wall_time:.0f} ms, CPU time: {cpu_time:.0f} ms\")\n"
      ]
    },
    {
      "cell_type": "code",
      "execution_count": 92,
      "metadata": {
        "colab": {
          "base_uri": "https://localhost:8080/"
        },
        "id": "tf0W0cR-xMc5",
        "outputId": "4402444c-5607-4f5e-cc24-521114083558"
      },
      "outputs": [
        {
          "name": "stdout",
          "output_type": "stream",
          "text": [
            "Number of duplicate rows after dropping: 0\n"
          ]
        }
      ],
      "source": [
        "# Check for duplicate rows after dropping\n",
        "duplicates_after = df_pandas.duplicated().sum()\n",
        "print(f\"Number of duplicate rows after dropping: {duplicates_after}\")"
      ]
    },
    {
      "cell_type": "markdown",
      "metadata": {},
      "source": [
        "**3. Modin**"
      ]
    },
    {
      "cell_type": "code",
      "execution_count": 32,
      "metadata": {},
      "outputs": [
        {
          "name": "stdout",
          "output_type": "stream",
          "text": [
            "Number of duplicate rows: 3940\n"
          ]
        }
      ],
      "source": [
        "# Check for duplicate rows (without %%time)\n",
        "duplicates = df_modin.duplicated().sum()\n",
        "print(f\"Number of duplicate rows: {duplicates}\")"
      ]
    },
    {
      "cell_type": "code",
      "execution_count": 36,
      "metadata": {},
      "outputs": [
        {
          "name": "stdout",
          "output_type": "stream",
          "text": [
            "Wall time: 3249 ms, CPU time: 10578 ms\n"
          ]
        }
      ],
      "source": [
        "# Drop duplicate rows\n",
        "start_time = time.time()\n",
        "start_cpu_time = psutil.cpu_times().user  # Start CPU time\n",
        "\n",
        "df_modin = df_modin.drop_duplicates()\n",
        "\n",
        "end_time = time.time()\n",
        "end_cpu_time = psutil.cpu_times().user  # End CPU time\n",
        "\n",
        "wall_time = (end_time - start_time) * 1000  # Wall time in ms\n",
        "cpu_time = (end_cpu_time - start_cpu_time) * 1000  # CPU time in ms\n",
        "\n",
        "print(f\"Wall time: {wall_time:.0f} ms, CPU time: {cpu_time:.0f} ms\")"
      ]
    },
    {
      "cell_type": "code",
      "execution_count": 37,
      "metadata": {},
      "outputs": [
        {
          "name": "stdout",
          "output_type": "stream",
          "text": [
            "Number of duplicate rows: 0\n"
          ]
        }
      ],
      "source": [
        "# Check for duplicate rows (without %%time)\n",
        "duplicates = df_modin.duplicated().sum()\n",
        "print(f\"Number of duplicate rows: {duplicates}\")"
      ]
    }
  ],
  "metadata": {
    "colab": {
      "collapsed_sections": [
        "lVbqFpOYg7jI",
        "s0VCKvwVjG5z",
        "F6Xrs6VpjppP",
        "pJ3aVtlmk3b3",
        "LdNH5T5Fle1i",
        "5yLx7EsLpda9",
        "XxMhg_dIoGKF",
        "8BW0vvmjw0NV"
      ],
      "provenance": []
    },
    "kernelspec": {
      "display_name": "Python 3",
      "name": "python3"
    },
    "language_info": {
      "codemirror_mode": {
        "name": "ipython",
        "version": 3
      },
      "file_extension": ".py",
      "mimetype": "text/x-python",
      "name": "python",
      "nbconvert_exporter": "python",
      "pygments_lexer": "ipython3",
      "version": "3.12.4"
    }
  },
  "nbformat": 4,
  "nbformat_minor": 0
}
